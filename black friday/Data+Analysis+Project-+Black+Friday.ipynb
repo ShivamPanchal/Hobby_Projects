{
 "cells": [
  {
   "cell_type": "markdown",
   "metadata": {},
   "source": [
    "# Black Friday- Sales Prediction\n"
   ]
  },
  {
   "cell_type": "markdown",
   "metadata": {},
   "source": [
    "**Problem Statement**\n",
    "\n",
    "A retail company “ABC Private Limited” wants to understand the customer purchase behaviour (specifically, purchase amount) against various products of different categories. They have shared purchase summary of various customers for selected high volume products from last month.\n",
    "\n",
    "\n",
    "The data set also contains customer demographics (age, gender, marital status, city_type, stay_in_current_city), product details (product_id and product category) and Total purchase_amount from last month.\n",
    "\n",
    "\n",
    "\n",
    "Now, they want to build a model to predict the purchase amount of customer against various products which will help them to create personalized offer for customers against different products."
   ]
  },
  {
   "cell_type": "code",
   "execution_count": 1,
   "metadata": {
    "collapsed": false
   },
   "outputs": [
    {
     "data": {
      "text/plain": [
       "'F:\\\\'"
      ]
     },
     "execution_count": 1,
     "metadata": {},
     "output_type": "execute_result"
    }
   ],
   "source": [
    "import os \n",
    "os.chdir(\"F://\")\n",
    "os.getcwd()\n"
   ]
  },
  {
   "cell_type": "markdown",
   "metadata": {
    "collapsed": true
   },
   "source": [
    "## Importing the Required Libraries"
   ]
  },
  {
   "cell_type": "code",
   "execution_count": 2,
   "metadata": {
    "collapsed": true
   },
   "outputs": [],
   "source": [
    "import pandas as pd\n",
    "import numpy as np\n",
    "import matplotlib as mp\n",
    "import seaborn as sns\n",
    "import matplotlib.pyplot as plt\n",
    "from scipy import stats\n",
    "%matplotlib inline"
   ]
  },
  {
   "cell_type": "markdown",
   "metadata": {},
   "source": [
    "## Loading the dataset"
   ]
  },
  {
   "cell_type": "code",
   "execution_count": 3,
   "metadata": {
    "collapsed": true
   },
   "outputs": [],
   "source": [
    "df = pd.read_csv(\"blackfriday.csv\")"
   ]
  },
  {
   "cell_type": "markdown",
   "metadata": {},
   "source": [
    "## Stage-1\n",
    "# Data Cleaning and Preprocessing"
   ]
  },
  {
   "cell_type": "code",
   "execution_count": 4,
   "metadata": {
    "collapsed": false
   },
   "outputs": [
    {
     "data": {
      "text/plain": [
       "(550068, 12)"
      ]
     },
     "execution_count": 4,
     "metadata": {},
     "output_type": "execute_result"
    }
   ],
   "source": [
    "df.shape"
   ]
  },
  {
   "cell_type": "code",
   "execution_count": 5,
   "metadata": {
    "collapsed": false
   },
   "outputs": [
    {
     "data": {
      "text/html": [
       "<div>\n",
       "<table border=\"1\" class=\"dataframe\">\n",
       "  <thead>\n",
       "    <tr style=\"text-align: right;\">\n",
       "      <th></th>\n",
       "      <th>User_ID</th>\n",
       "      <th>Product_ID</th>\n",
       "      <th>Gender</th>\n",
       "      <th>Age</th>\n",
       "      <th>Occupation</th>\n",
       "      <th>City_Category</th>\n",
       "      <th>Stay_In_Current_City_Years</th>\n",
       "      <th>Marital_Status</th>\n",
       "      <th>Product_Category_1</th>\n",
       "      <th>Product_Category_2</th>\n",
       "      <th>Product_Category_3</th>\n",
       "      <th>Purchase</th>\n",
       "    </tr>\n",
       "  </thead>\n",
       "  <tbody>\n",
       "    <tr>\n",
       "      <th>0</th>\n",
       "      <td>1000001</td>\n",
       "      <td>P00069042</td>\n",
       "      <td>F</td>\n",
       "      <td>0-17</td>\n",
       "      <td>10</td>\n",
       "      <td>A</td>\n",
       "      <td>2</td>\n",
       "      <td>0</td>\n",
       "      <td>3</td>\n",
       "      <td>NaN</td>\n",
       "      <td>NaN</td>\n",
       "      <td>8370</td>\n",
       "    </tr>\n",
       "    <tr>\n",
       "      <th>1</th>\n",
       "      <td>1000001</td>\n",
       "      <td>P00248942</td>\n",
       "      <td>F</td>\n",
       "      <td>0-17</td>\n",
       "      <td>10</td>\n",
       "      <td>A</td>\n",
       "      <td>2</td>\n",
       "      <td>0</td>\n",
       "      <td>1</td>\n",
       "      <td>6.0</td>\n",
       "      <td>14.0</td>\n",
       "      <td>15200</td>\n",
       "    </tr>\n",
       "    <tr>\n",
       "      <th>2</th>\n",
       "      <td>1000001</td>\n",
       "      <td>P00087842</td>\n",
       "      <td>F</td>\n",
       "      <td>0-17</td>\n",
       "      <td>10</td>\n",
       "      <td>A</td>\n",
       "      <td>2</td>\n",
       "      <td>0</td>\n",
       "      <td>12</td>\n",
       "      <td>NaN</td>\n",
       "      <td>NaN</td>\n",
       "      <td>1422</td>\n",
       "    </tr>\n",
       "    <tr>\n",
       "      <th>3</th>\n",
       "      <td>1000001</td>\n",
       "      <td>P00085442</td>\n",
       "      <td>F</td>\n",
       "      <td>0-17</td>\n",
       "      <td>10</td>\n",
       "      <td>A</td>\n",
       "      <td>2</td>\n",
       "      <td>0</td>\n",
       "      <td>12</td>\n",
       "      <td>14.0</td>\n",
       "      <td>NaN</td>\n",
       "      <td>1057</td>\n",
       "    </tr>\n",
       "    <tr>\n",
       "      <th>4</th>\n",
       "      <td>1000002</td>\n",
       "      <td>P00285442</td>\n",
       "      <td>M</td>\n",
       "      <td>55+</td>\n",
       "      <td>16</td>\n",
       "      <td>C</td>\n",
       "      <td>4+</td>\n",
       "      <td>0</td>\n",
       "      <td>8</td>\n",
       "      <td>NaN</td>\n",
       "      <td>NaN</td>\n",
       "      <td>7969</td>\n",
       "    </tr>\n",
       "  </tbody>\n",
       "</table>\n",
       "</div>"
      ],
      "text/plain": [
       "   User_ID Product_ID Gender   Age  Occupation City_Category  \\\n",
       "0  1000001  P00069042      F  0-17          10             A   \n",
       "1  1000001  P00248942      F  0-17          10             A   \n",
       "2  1000001  P00087842      F  0-17          10             A   \n",
       "3  1000001  P00085442      F  0-17          10             A   \n",
       "4  1000002  P00285442      M   55+          16             C   \n",
       "\n",
       "  Stay_In_Current_City_Years  Marital_Status  Product_Category_1  \\\n",
       "0                          2               0                   3   \n",
       "1                          2               0                   1   \n",
       "2                          2               0                  12   \n",
       "3                          2               0                  12   \n",
       "4                         4+               0                   8   \n",
       "\n",
       "   Product_Category_2  Product_Category_3  Purchase  \n",
       "0                 NaN                 NaN      8370  \n",
       "1                 6.0                14.0     15200  \n",
       "2                 NaN                 NaN      1422  \n",
       "3                14.0                 NaN      1057  \n",
       "4                 NaN                 NaN      7969  "
      ]
     },
     "execution_count": 5,
     "metadata": {},
     "output_type": "execute_result"
    }
   ],
   "source": [
    "df.head()"
   ]
  },
  {
   "cell_type": "code",
   "execution_count": 6,
   "metadata": {
    "collapsed": false
   },
   "outputs": [
    {
     "name": "stderr",
     "output_type": "stream",
     "text": [
      "C:\\Users\\shivam\\Anaconda3\\lib\\site-packages\\numpy\\lib\\function_base.py:4116: RuntimeWarning: Invalid value encountered in percentile\n",
      "  interpolation=interpolation)\n"
     ]
    },
    {
     "data": {
      "text/html": [
       "<div>\n",
       "<table border=\"1\" class=\"dataframe\">\n",
       "  <thead>\n",
       "    <tr style=\"text-align: right;\">\n",
       "      <th></th>\n",
       "      <th>User_ID</th>\n",
       "      <th>Occupation</th>\n",
       "      <th>Marital_Status</th>\n",
       "      <th>Product_Category_1</th>\n",
       "      <th>Product_Category_2</th>\n",
       "      <th>Product_Category_3</th>\n",
       "      <th>Purchase</th>\n",
       "    </tr>\n",
       "  </thead>\n",
       "  <tbody>\n",
       "    <tr>\n",
       "      <th>count</th>\n",
       "      <td>5.500680e+05</td>\n",
       "      <td>550068.000000</td>\n",
       "      <td>550068.000000</td>\n",
       "      <td>550068.000000</td>\n",
       "      <td>376430.000000</td>\n",
       "      <td>166821.000000</td>\n",
       "      <td>550068.000000</td>\n",
       "    </tr>\n",
       "    <tr>\n",
       "      <th>mean</th>\n",
       "      <td>1.003029e+06</td>\n",
       "      <td>8.076707</td>\n",
       "      <td>0.409653</td>\n",
       "      <td>5.404270</td>\n",
       "      <td>9.842329</td>\n",
       "      <td>12.668243</td>\n",
       "      <td>9263.968713</td>\n",
       "    </tr>\n",
       "    <tr>\n",
       "      <th>std</th>\n",
       "      <td>1.727592e+03</td>\n",
       "      <td>6.522660</td>\n",
       "      <td>0.491770</td>\n",
       "      <td>3.936211</td>\n",
       "      <td>5.086590</td>\n",
       "      <td>4.125338</td>\n",
       "      <td>5023.065394</td>\n",
       "    </tr>\n",
       "    <tr>\n",
       "      <th>min</th>\n",
       "      <td>1.000001e+06</td>\n",
       "      <td>0.000000</td>\n",
       "      <td>0.000000</td>\n",
       "      <td>1.000000</td>\n",
       "      <td>2.000000</td>\n",
       "      <td>3.000000</td>\n",
       "      <td>12.000000</td>\n",
       "    </tr>\n",
       "    <tr>\n",
       "      <th>25%</th>\n",
       "      <td>1.001516e+06</td>\n",
       "      <td>2.000000</td>\n",
       "      <td>0.000000</td>\n",
       "      <td>1.000000</td>\n",
       "      <td>NaN</td>\n",
       "      <td>NaN</td>\n",
       "      <td>5823.000000</td>\n",
       "    </tr>\n",
       "    <tr>\n",
       "      <th>50%</th>\n",
       "      <td>1.003077e+06</td>\n",
       "      <td>7.000000</td>\n",
       "      <td>0.000000</td>\n",
       "      <td>5.000000</td>\n",
       "      <td>NaN</td>\n",
       "      <td>NaN</td>\n",
       "      <td>8047.000000</td>\n",
       "    </tr>\n",
       "    <tr>\n",
       "      <th>75%</th>\n",
       "      <td>1.004478e+06</td>\n",
       "      <td>14.000000</td>\n",
       "      <td>1.000000</td>\n",
       "      <td>8.000000</td>\n",
       "      <td>NaN</td>\n",
       "      <td>NaN</td>\n",
       "      <td>12054.000000</td>\n",
       "    </tr>\n",
       "    <tr>\n",
       "      <th>max</th>\n",
       "      <td>1.006040e+06</td>\n",
       "      <td>20.000000</td>\n",
       "      <td>1.000000</td>\n",
       "      <td>20.000000</td>\n",
       "      <td>18.000000</td>\n",
       "      <td>18.000000</td>\n",
       "      <td>23961.000000</td>\n",
       "    </tr>\n",
       "  </tbody>\n",
       "</table>\n",
       "</div>"
      ],
      "text/plain": [
       "            User_ID     Occupation  Marital_Status  Product_Category_1  \\\n",
       "count  5.500680e+05  550068.000000   550068.000000       550068.000000   \n",
       "mean   1.003029e+06       8.076707        0.409653            5.404270   \n",
       "std    1.727592e+03       6.522660        0.491770            3.936211   \n",
       "min    1.000001e+06       0.000000        0.000000            1.000000   \n",
       "25%    1.001516e+06       2.000000        0.000000            1.000000   \n",
       "50%    1.003077e+06       7.000000        0.000000            5.000000   \n",
       "75%    1.004478e+06      14.000000        1.000000            8.000000   \n",
       "max    1.006040e+06      20.000000        1.000000           20.000000   \n",
       "\n",
       "       Product_Category_2  Product_Category_3       Purchase  \n",
       "count       376430.000000       166821.000000  550068.000000  \n",
       "mean             9.842329           12.668243    9263.968713  \n",
       "std              5.086590            4.125338    5023.065394  \n",
       "min              2.000000            3.000000      12.000000  \n",
       "25%                   NaN                 NaN    5823.000000  \n",
       "50%                   NaN                 NaN    8047.000000  \n",
       "75%                   NaN                 NaN   12054.000000  \n",
       "max             18.000000           18.000000   23961.000000  "
      ]
     },
     "execution_count": 6,
     "metadata": {},
     "output_type": "execute_result"
    }
   ],
   "source": [
    "df.describe()"
   ]
  },
  {
   "cell_type": "code",
   "execution_count": 7,
   "metadata": {
    "collapsed": false
   },
   "outputs": [
    {
     "data": {
      "text/plain": [
       "True"
      ]
     },
     "execution_count": 7,
     "metadata": {},
     "output_type": "execute_result"
    }
   ],
   "source": [
    "# Checking whether the dataset contains null values\n",
    "df.isnull().values.any()"
   ]
  },
  {
   "cell_type": "code",
   "execution_count": 8,
   "metadata": {
    "collapsed": false
   },
   "outputs": [
    {
     "data": {
      "text/plain": [
       "User_ID                         int64\n",
       "Product_ID                     object\n",
       "Gender                         object\n",
       "Age                            object\n",
       "Occupation                      int64\n",
       "City_Category                  object\n",
       "Stay_In_Current_City_Years     object\n",
       "Marital_Status                  int64\n",
       "Product_Category_1              int64\n",
       "Product_Category_2            float64\n",
       "Product_Category_3            float64\n",
       "Purchase                        int64\n",
       "dtype: object"
      ]
     },
     "execution_count": 8,
     "metadata": {},
     "output_type": "execute_result"
    }
   ],
   "source": [
    "df.dtypes         ## Find data types"
   ]
  },
  {
   "cell_type": "code",
   "execution_count": 9,
   "metadata": {
    "collapsed": false
   },
   "outputs": [
    {
     "name": "stdout",
     "output_type": "stream",
     "text": [
      "<class 'pandas.core.frame.DataFrame'>\n",
      "RangeIndex: 550068 entries, 0 to 550067\n",
      "Data columns (total 12 columns):\n",
      "User_ID                       550068 non-null int64\n",
      "Product_ID                    550068 non-null object\n",
      "Gender                        550068 non-null object\n",
      "Age                           550068 non-null object\n",
      "Occupation                    550068 non-null int64\n",
      "City_Category                 550068 non-null object\n",
      "Stay_In_Current_City_Years    550068 non-null object\n",
      "Marital_Status                550068 non-null int64\n",
      "Product_Category_1            550068 non-null int64\n",
      "Product_Category_2            376430 non-null float64\n",
      "Product_Category_3            166821 non-null float64\n",
      "Purchase                      550068 non-null int64\n",
      "dtypes: float64(2), int64(5), object(5)\n",
      "memory usage: 50.4+ MB\n"
     ]
    }
   ],
   "source": [
    "df.info()"
   ]
  },
  {
   "cell_type": "markdown",
   "metadata": {},
   "source": [
    "<a id='Missing Value Treatment'></a>\n",
    "## Missing Value Treatment ##\n",
    " \n",
    "***Why missing values treatment is required?***\n",
    "\n",
    "Missing data in the training data set can reduce the power / fit of a model or can lead to a biased model because we have not analysed the behavior and relationship with other variables correctly. It can lead to wrong prediction or classification.\n",
    "\n",
    "***Why my data has missing values?***\n",
    "\n",
    "We looked at the importance of treatment of missing values in a dataset. Now, let’s identify the reasons for occurrence of these missing values. They may occur at two stages:\n",
    "\n",
    "**Data Extraction**: It is possible that there are problems with extraction process. In such cases, we should double-check for correct data with data guardians. Some hashing procedures can also be used to make sure data extraction is correct. Errors at data extraction stage are typically easy to find and can be corrected easily as well.\n",
    "\n",
    "**Data collection**: These errors occur at time of data collection and are harder to correct. They can be categorized in four types:\n",
    "\n",
    "1)**Missing completely at random**: This is a case when the probability of missing variable is same for all observations. For example: respondents of data collection process decide that they will declare their earning after tossing a fair coin. If an head occurs, respondent declares his / her earnings & vice versa. Here each observation has equal chance of missing value.\n",
    "\n",
    "2)**Missing at random**: This is a case when variable is missing at random and missing ratio varies for different values / level of other input variables. For example: We are collecting data for age and female has higher missing value compare to male.\n",
    "\n",
    "3)**Missing that depends on unobserved predictors**: This is a case when the missing values are not random and are related to the unobserved input variable. For example: In a medical study, if a particular diagnostic causes discomfort, then there is higher chance of drop out from the study. This missing value is not at random unless we have included “discomfort” as an input variable for all patients.\n",
    "\n",
    "4)**Missing that depends on the missing value itself**: This is a case when the probability of missing value is directly correlated with missing value itself. For example: People with higher or lower income are likely to provide non-response to their earning.\n",
    " \n",
    "***Which are the methods to treat missing values ?**\n",
    "\n",
    "**Deletion**:  It is of two types: List Wise Deletion and Pair Wise Deletion.\n",
    "In list wise deletion, we delete observations where any of the variable is missing. Simplicity is one of the major advantage of this method, but this method reduces the power of model because it reduces the sample size.\n",
    "In pair wise deletion, we perform analysis with all cases in which the variables of interest are present. Advantage of this method is, it keeps as many cases available for analysis. One of the disadvantage of this method, it uses different sample size for different variables.\n",
    "\n",
    "Deletion methods are used when the nature of missing data is “Missing completely at random” else non random missing values can bias the model output.\n",
    "\n",
    "**Mean/ Mode/ Median Imputation**: Imputation is a method to fill in the missing values with estimated ones. The objective is to employ known relationships that can be identified in the valid values of the data set to assist in estimating the missing values. Mean / Mode / Median imputation is one of the most frequently used methods. It consists of replacing the missing data for a given attribute by the mean or median (quantitative attribute) or mode (qualitative attribute) of all known values of that variable. It can be of two types:- ***Generalized Imputation***: In this case, we calculate the mean or median for all non missing values of that variable then replace missing value with mean or median. Like in above table, variable “Manpower” is missing so we take average of all non missing values of “Manpower”  (28.33) and then replace missing value with it.\n",
    "Similar case Imputation: In this case, we calculate average for gender “Male” (29.75) and “Female” (25) individually of non missing values then replace the missing value based on gender. For “Male“, we will replace missing values of manpower with 29.75 and for “Female” with 25.\n",
    "\n",
    "**Prediction Model**:  Prediction model is one of the sophisticated method for handling missing data. Here, we create a predictive model to estimate values that will substitute the missing data. In this case, we divide our data set into two sets: One set with no missing values for the variable and another one with missing values. First data set become training data set of the model while second data set with missing values is test data set and variable with missing values is treated as target variable. Next, we create a model to predict target variable based on other attributes of the training data set and populate missing values of test data set.We can use regression, ANOVA, Logistic regression and various modeling technique to perform this. There are 2 drawbacks for this approach:\n",
    "1)The model estimated values are usually more well-behaved than the true values\n",
    "2)If there are no relationships with attributes in the data set and the attribute with missing values, then the model will not be precise for estimating missing values.\n",
    "\n",
    "**KNN Imputation**: In this method of imputation, the missing values of an attribute are imputed using the given number of attributes that are most similar to the attribute whose values are missing. The similarity of two attributes is determined using a distance function. It is also known to have certain advantage & disadvantages.\n",
    "\n",
    "*Advantages*:\n",
    "k-nearest neighbour can predict both qualitative & quantitative attributes Creation of predictive model for each attribute with missing data is not required Attributes with multiple missing values can be easily treated Correlation structure of the data is taken into consideration\n",
    "\n",
    "*Disadvantage*:\n",
    "KNN algorithm is very time-consuming in analyzing large database. It searches through all the dataset looking for the most similar instances.Choice of k-value is very critical. Higher value of k would include attributes which are significantly different from what we need whereas lower value of k implies missing out of significant attributes.\n",
    "\n",
    "After dealing with missing values, the next task is to deal with outliers. Often, we tend to neglect outliers while building models. This is a discouraging practice. Outliers tend to make your data skewed and reduces accuracy. Let’s learn more about outlier treatment.\n",
    "\n",
    " \n"
   ]
  },
  {
   "cell_type": "code",
   "execution_count": 10,
   "metadata": {
    "collapsed": false
   },
   "outputs": [
    {
     "data": {
      "text/plain": [
       "User_ID                            0\n",
       "Product_ID                         0\n",
       "Gender                             0\n",
       "Age                                0\n",
       "Occupation                         0\n",
       "City_Category                      0\n",
       "Stay_In_Current_City_Years         0\n",
       "Marital_Status                     0\n",
       "Product_Category_1                 0\n",
       "Product_Category_2            173638\n",
       "Product_Category_3            383247\n",
       "Purchase                           0\n",
       "dtype: int64"
      ]
     },
     "execution_count": 10,
     "metadata": {},
     "output_type": "execute_result"
    }
   ],
   "source": [
    "df.isnull().sum()   ## Find number of NA in each colunm"
   ]
  },
  {
   "cell_type": "code",
   "execution_count": 11,
   "metadata": {
    "collapsed": false
   },
   "outputs": [
    {
     "data": {
      "text/plain": [
       "556885"
      ]
     },
     "execution_count": 11,
     "metadata": {},
     "output_type": "execute_result"
    }
   ],
   "source": [
    "df.isnull().sum().sum()  # Total NA in data"
   ]
  },
  {
   "cell_type": "code",
   "execution_count": 12,
   "metadata": {
    "collapsed": false
   },
   "outputs": [
    {
     "data": {
      "text/plain": [
       "9.0"
      ]
     },
     "execution_count": 12,
     "metadata": {},
     "output_type": "execute_result"
    }
   ],
   "source": [
    "df['Product_Category_2'].median()                    ## Find median of Product_Category_2 to fill NA"
   ]
  },
  {
   "cell_type": "code",
   "execution_count": 13,
   "metadata": {
    "collapsed": true
   },
   "outputs": [],
   "source": [
    "df['Product_Category_2'].fillna(value=9,inplace=True)            ## Filling NA for Product_Category_2"
   ]
  },
  {
   "cell_type": "code",
   "execution_count": 14,
   "metadata": {
    "collapsed": false
   },
   "outputs": [
    {
     "data": {
      "text/plain": [
       "14.0"
      ]
     },
     "execution_count": 14,
     "metadata": {},
     "output_type": "execute_result"
    }
   ],
   "source": [
    "df['Product_Category_3'].median()                 ## Find median of Product_Category_2 to fill NA"
   ]
  },
  {
   "cell_type": "code",
   "execution_count": 15,
   "metadata": {
    "collapsed": true
   },
   "outputs": [],
   "source": [
    "df['Product_Category_3'].fillna(value=14,inplace=True)    ## Filling NA for Product_Category_2"
   ]
  },
  {
   "cell_type": "code",
   "execution_count": 16,
   "metadata": {
    "collapsed": false
   },
   "outputs": [
    {
     "data": {
      "text/plain": [
       "0"
      ]
     },
     "execution_count": 16,
     "metadata": {},
     "output_type": "execute_result"
    }
   ],
   "source": [
    "df.isnull().sum().sum()    ## There are no NA in the train data"
   ]
  },
  {
   "cell_type": "markdown",
   "metadata": {},
   "source": [
    "## Step 2\n",
    "# Exploratory Data Visualizaation"
   ]
  },
  {
   "cell_type": "code",
   "execution_count": 17,
   "metadata": {
    "collapsed": false
   },
   "outputs": [
    {
     "data": {
      "text/plain": [
       "5891"
      ]
     },
     "execution_count": 17,
     "metadata": {},
     "output_type": "execute_result"
    }
   ],
   "source": [
    "## Find Unique value in User ID\n",
    "\n",
    "df.User_ID.nunique()"
   ]
  },
  {
   "cell_type": "code",
   "execution_count": 18,
   "metadata": {
    "collapsed": false
   },
   "outputs": [
    {
     "data": {
      "text/plain": [
       "3631"
      ]
     },
     "execution_count": 18,
     "metadata": {},
     "output_type": "execute_result"
    }
   ],
   "source": [
    "## Number of unique in Product ID\n",
    "\n",
    "df.Product_ID.nunique()      ## There are 3631 unique product ID outof 550068 observations"
   ]
  },
  {
   "cell_type": "code",
   "execution_count": 19,
   "metadata": {
    "collapsed": false
   },
   "outputs": [
    {
     "data": {
      "text/plain": [
       "5"
      ]
     },
     "execution_count": 19,
     "metadata": {},
     "output_type": "execute_result"
    }
   ],
   "source": [
    "## Number of Categorical variable\n",
    "\n",
    "(df.dtypes=='object').sum()  ## There are 5 categorical variables"
   ]
  },
  {
   "cell_type": "markdown",
   "metadata": {},
   "source": [
    "<a id='Univariate Analysis'></a>\n",
    "## Univariate Analysis ##\n",
    "\n",
    "At this stage, we explore variables one by one. Method to perform uni-variate analysis will depend on whether the variable type is categorical or continuous. Let’s look at these methods and statistical measures for categorical and continuous variables individually:\n",
    "\n",
    "**Continuous Variables**:- In case of continuous variables, we need to understand the central tendency and spread of the variable. These are measured using various statistical metrics visualization methods like ** Histogram & Boxplot **.\n",
    "We will use Matplotlib & Seaborn package."
   ]
  },
  {
   "cell_type": "code",
   "execution_count": 20,
   "metadata": {
    "collapsed": true
   },
   "outputs": [
    {
     "data": {
      "text/plain": [
       "User_ID                         int64\n",
       "Product_ID                     object\n",
       "Gender                         object\n",
       "Age                            object\n",
       "Occupation                      int64\n",
       "City_Category                  object\n",
       "Stay_In_Current_City_Years     object\n",
       "Marital_Status                  int64\n",
       "Product_Category_1              int64\n",
       "Product_Category_2            float64\n",
       "Product_Category_3            float64\n",
       "Purchase                        int64\n",
       "dtype: object"
      ]
     },
     "execution_count": 20,
     "metadata": {},
     "output_type": "execute_result"
    }
   ],
   "source": [
    "## which continuous variables in data\n",
    "\n",
    "df.dtypes  ## data types of variables"
   ]
  },
  {
   "cell_type": "code",
   "execution_count": 21,
   "metadata": {
    "collapsed": false
   },
   "outputs": [
    {
     "data": {
      "text/plain": [
       "5"
      ]
     },
     "execution_count": 21,
     "metadata": {},
     "output_type": "execute_result"
    }
   ],
   "source": [
    "(df.dtypes=='int64').sum()                 # there are 5 variables which have integer as dtype"
   ]
  },
  {
   "cell_type": "code",
   "execution_count": 22,
   "metadata": {
    "collapsed": false
   },
   "outputs": [
    {
     "data": {
      "text/plain": [
       "2"
      ]
     },
     "execution_count": 22,
     "metadata": {},
     "output_type": "execute_result"
    }
   ],
   "source": [
    "(df.dtypes=='float64').sum()               # there are 2 variables which have float as dtype"
   ]
  },
  {
   "cell_type": "code",
   "execution_count": 23,
   "metadata": {
    "collapsed": false
   },
   "outputs": [
    {
     "data": {
      "text/plain": [
       "<matplotlib.text.Text at 0x1db5c0aff60>"
      ]
     },
     "execution_count": 23,
     "metadata": {},
     "output_type": "execute_result"
    },
    {
     "data": {
      "image/png": "[encoded data removed]",
      "text/plain": [
       "<matplotlib.figure.Figure at 0x1db5de2d080>"
      ]
     },
     "metadata": {},
     "output_type": "display_data"
    }
   ],
   "source": [
    "# Check the distribution of dependent variable i.e Purchase\n",
    "df['Purchase'].hist(bins=20).set_title('Purchase Pattern')"
   ]
  },
  {
   "cell_type": "markdown",
   "metadata": {},
   "source": [
    "Looking at Purchase Pattern we can see that number of count is more at 6000 & 7000 and above 15000 have very less count."
   ]
  },
  {
   "cell_type": "code",
   "execution_count": 24,
   "metadata": {
    "collapsed": false
   },
   "outputs": [
    {
     "data": {
      "text/plain": [
       "<matplotlib.text.Text at 0x1db5c489470>"
      ]
     },
     "execution_count": 24,
     "metadata": {},
     "output_type": "execute_result"
    },
    {
     "data": {
      "image/png": "[encoded data removed]",
      "text/plain": [
       "<matplotlib.figure.Figure at 0x1db5c434f60>"
      ]
     },
     "metadata": {},
     "output_type": "display_data"
    }
   ],
   "source": [
    "# Check the distribution of dependent variable i.e Product Category 1\n",
    "\n",
    "df['Product_Category_1'].hist(bins=20).set_title('Product_Category_1 Pattern')"
   ]
  },
  {
   "cell_type": "code",
   "execution_count": 25,
   "metadata": {
    "collapsed": false
   },
   "outputs": [
    {
     "data": {
      "text/plain": [
       "<matplotlib.text.Text at 0x1db5c536d30>"
      ]
     },
     "execution_count": 25,
     "metadata": {},
     "output_type": "execute_result"
    },
    {
     "data": {
      "image/png": "[encoded data removed]",
      "text/plain": [
       "<matplotlib.figure.Figure at 0x1db5c4ba518>"
      ]
     },
     "metadata": {},
     "output_type": "display_data"
    }
   ],
   "source": [
    "# Check the distribution of Product_Category_2 \n",
    "\n",
    "df['Product_Category_2'].hist(bins=20).set_title('Product_Category_2 Pattern')"
   ]
  },
  {
   "cell_type": "code",
   "execution_count": 26,
   "metadata": {
    "collapsed": false
   },
   "outputs": [
    {
     "data": {
      "text/plain": [
       "<matplotlib.text.Text at 0x1db5c5eac18>"
      ]
     },
     "execution_count": 26,
     "metadata": {},
     "output_type": "execute_result"
    },
    {
     "data": {
      "image/png": "[encoded data removed]",
      "text/plain": [
       "<matplotlib.figure.Figure at 0x1db5c5a11d0>"
      ]
     },
     "metadata": {},
     "output_type": "display_data"
    }
   ],
   "source": [
    "# Check the distribution of Product_Category_3 \n",
    "\n",
    "df['Product_Category_3'].hist(bins=20).set_title('Product_Category_3 Pattern')"
   ]
  },
  {
   "cell_type": "code",
   "execution_count": 27,
   "metadata": {
    "collapsed": false
   },
   "outputs": [
    {
     "data": {
      "text/plain": [
       "<matplotlib.text.Text at 0x1db5c6a2d68>"
      ]
     },
     "execution_count": 27,
     "metadata": {},
     "output_type": "execute_result"
    },
    {
     "data": {
      "image/png": "[encoded data removed]",
      "text/plain": [
       "<matplotlib.figure.Figure at 0x1db5c58f908>"
      ]
     },
     "metadata": {},
     "output_type": "display_data"
    }
   ],
   "source": [
    "# Check the distribution of Occupation\n",
    "\n",
    "df['Occupation'].hist(bins=20).set_title('Occupation Pattern')"
   ]
  },
  {
   "cell_type": "markdown",
   "metadata": {},
   "source": [
    "**Categorical Variables**:- For categorical variables, we’ll use frequency table to understand distribution of each category. We can also read as percentage of values under each category. It can be be measured using two metrics, Count and Count% against each category. Bar chart can be used as visualization."
   ]
  },
  {
   "cell_type": "code",
   "execution_count": 28,
   "metadata": {
    "collapsed": false
   },
   "outputs": [
    {
     "data": {
      "text/plain": [
       "User_ID                         int64\n",
       "Product_ID                     object\n",
       "Gender                         object\n",
       "Age                            object\n",
       "Occupation                      int64\n",
       "City_Category                  object\n",
       "Stay_In_Current_City_Years     object\n",
       "Marital_Status                  int64\n",
       "Product_Category_1              int64\n",
       "Product_Category_2            float64\n",
       "Product_Category_3            float64\n",
       "Purchase                        int64\n",
       "dtype: object"
      ]
     },
     "execution_count": 28,
     "metadata": {},
     "output_type": "execute_result"
    }
   ],
   "source": [
    "df.dtypes"
   ]
  },
  {
   "cell_type": "code",
   "execution_count": 29,
   "metadata": {
    "collapsed": false
   },
   "outputs": [
    {
     "data": {
      "text/plain": [
       "<matplotlib.text.Text at 0x1db5c735be0>"
      ]
     },
     "execution_count": 29,
     "metadata": {},
     "output_type": "execute_result"
    },
    {
     "data": {
      "image/png": "[encoded data removed]",
      "text/plain": [
       "<matplotlib.figure.Figure at 0x1db5c721c50>"
      ]
     },
     "metadata": {},
     "output_type": "display_data"
    }
   ],
   "source": [
    "# Number of Gender count\n",
    "\n",
    "dim = (10,10)\n",
    "sns.countplot(x=\"Gender\", data=df, palette=\"Greens_d\").set_title('Data: Gender-wise count')"
   ]
  },
  {
   "cell_type": "code",
   "execution_count": 30,
   "metadata": {
    "collapsed": false
   },
   "outputs": [
    {
     "data": {
      "text/plain": [
       "<matplotlib.text.Text at 0x1db5c7b0f28>"
      ]
     },
     "execution_count": 30,
     "metadata": {},
     "output_type": "execute_result"
    },
    {
     "data": {
      "image/png": "[encoded data removed]",
      "text/plain": [
       "<matplotlib.figure.Figure at 0x1db5c434630>"
      ]
     },
     "metadata": {},
     "output_type": "display_data"
    }
   ],
   "source": [
    "## Number of count of Age\n",
    "\n",
    "dim = (10,10)\n",
    "sns.countplot(x='Age',data=df,palette=\"Blues\").set_title('Data: Agewise count')"
   ]
  },
  {
   "cell_type": "code",
   "execution_count": 31,
   "metadata": {
    "collapsed": false
   },
   "outputs": [
    {
     "data": {
      "text/plain": [
       "<matplotlib.text.Text at 0x1db5c824da0>"
      ]
     },
     "execution_count": 31,
     "metadata": {},
     "output_type": "execute_result"
    },
    {
     "data": {
      "image/png": "[encoded data removed]",
      "text/plain": [
       "<matplotlib.figure.Figure at 0x1db5c721198>"
      ]
     },
     "metadata": {},
     "output_type": "display_data"
    }
   ],
   "source": [
    "## Number of count of City\n",
    "\n",
    "dim = (10,10)\n",
    "\n",
    "sns.countplot(x='City_Category',data=df,palette=\"pastel\").set_title('Data:  Citywise count')"
   ]
  },
  {
   "cell_type": "code",
   "execution_count": 32,
   "metadata": {
    "collapsed": false
   },
   "outputs": [
    {
     "data": {
      "text/plain": [
       "<matplotlib.text.Text at 0x1db5c8dc048>"
      ]
     },
     "execution_count": 32,
     "metadata": {},
     "output_type": "execute_result"
    },
    {
     "data": {
      "image/png": "[encoded data removed]",
      "text/plain": [
       "<matplotlib.figure.Figure at 0x1db5c78e940>"
      ]
     },
     "metadata": {},
     "output_type": "display_data"
    }
   ],
   "source": [
    "## Number of count of stay\n",
    "\n",
    "dim = (10,10)\n",
    "sns.countplot(x='Stay_In_Current_City_Years',data=df,palette=\"deep\").set_title('Data:  Stay-wise count')\n"
   ]
  },
  {
   "cell_type": "code",
   "execution_count": 33,
   "metadata": {
    "collapsed": false
   },
   "outputs": [
    {
     "data": {
      "text/plain": [
       "<matplotlib.text.Text at 0x1db5c93cf28>"
      ]
     },
     "execution_count": 33,
     "metadata": {},
     "output_type": "execute_result"
    },
    {
     "data": {
      "image/png": "[encoded data removed]",
      "text/plain": [
       "<matplotlib.figure.Figure at 0x1db5c801898>"
      ]
     },
     "metadata": {},
     "output_type": "display_data"
    }
   ],
   "source": [
    "## Number of count of Marital_Status\n",
    "\n",
    "sns.countplot(x='Marital_Status',data=df,palette=\"muted\").set_title('Data:  Marital_Status-wise count')"
   ]
  },
  {
   "cell_type": "code",
   "execution_count": 34,
   "metadata": {
    "collapsed": false
   },
   "outputs": [
    {
     "data": {
      "text/plain": [
       "<matplotlib.text.Text at 0x1db5ca40eb8>"
      ]
     },
     "execution_count": 34,
     "metadata": {},
     "output_type": "execute_result"
    },
    {
     "data": {
      "image/png": "[encoded data removed]",
      "text/plain": [
       "<matplotlib.figure.Figure at 0x1db5c971470>"
      ]
     },
     "metadata": {},
     "output_type": "display_data"
    }
   ],
   "source": [
    "## Number of count of Product_ID \n",
    "\n",
    "sns.countplot(x='Product_ID',data=df,palette=\"pastel\").set_title('Data:  Product_ID-wise count')"
   ]
  },
  {
   "cell_type": "markdown",
   "metadata": {},
   "source": [
    "<a id='Bi-variate Analysis'></a>\n",
    "## Bi-variate Analysis ##\n",
    "\n",
    "Bi-variate Analysis finds out the relationship between two variables. Here, we look for association and disassociation between variables at a pre-defined significance level. We can perform bi-variate analysis for any combination of categorical and continuous variables. The combination can be: Categorical & Categorical, Categorical & Continuous and Continuous & Continuous. Different methods are used to tackle these combinations during analysis process.\n",
    "\n",
    "Let’s understand the possible combinations in detail:\n",
    "\n",
    "**Continuous & Continuous**: While doing bi-variate analysis between two continuous variables, we should look at **scatter plot**. It is a nifty way to find out the relationship between two variables. The pattern of scatter plot indicates the relationship between variables. The relationship can be linear or non-linear."
   ]
  },
  {
   "cell_type": "code",
   "execution_count": 35,
   "metadata": {
    "collapsed": false
   },
   "outputs": [
    {
     "data": {
      "text/plain": [
       "User_ID                         int64\n",
       "Product_ID                     object\n",
       "Gender                         object\n",
       "Age                            object\n",
       "Occupation                      int64\n",
       "City_Category                  object\n",
       "Stay_In_Current_City_Years     object\n",
       "Marital_Status                  int64\n",
       "Product_Category_1              int64\n",
       "Product_Category_2            float64\n",
       "Product_Category_3            float64\n",
       "Purchase                        int64\n",
       "dtype: object"
      ]
     },
     "execution_count": 35,
     "metadata": {},
     "output_type": "execute_result"
    }
   ],
   "source": [
    "df.dtypes"
   ]
  },
  {
   "cell_type": "markdown",
   "metadata": {},
   "source": [
    "**Categorical & Continuous**: While exploring relation between categorical and continuous variables, we can draw box plots for each level of categorical variables. If levels are small in number, it will not show the statistical significance. To look at the statistical significance we can perform Z-test, T-test or ANOVA.\n",
    "\n",
    "1) *Z-Test/ T-Test*:- Either test assess whether mean of two groups are statistically different from each other or not.\n",
    "\n",
    "***If the probability of Z is small then the difference of two averages is more significant**. The T-test is very similar to Z-test but it is used when number of observation for both categories is less than 30.\n",
    "\n",
    "2) *ANOVA*:- It assesses whether the average of more than two groups is statistically different.\n",
    "\n",
    "Example: Suppose, we want to test the effect of five different exercises. For this, we recruit 20 men and assign one type of exercise to 4 men (5 groups). Their weights are recorded after a few weeks. We need to find out whether the effect of these exercises on them is significantly different or not. This can be done by comparing the weights of the 5 groups of 4 men each.\n"
   ]
  },
  {
   "cell_type": "code",
   "execution_count": 36,
   "metadata": {
    "collapsed": false
   },
   "outputs": [],
   "source": [
    "from scipy import stats"
   ]
  },
  {
   "cell_type": "code",
   "execution_count": 37,
   "metadata": {
    "collapsed": false
   },
   "outputs": [
    {
     "data": {
      "text/plain": [
       "Gender       \n",
       "F       count    135809.000000\n",
       "        mean       8734.565765\n",
       "        std        4767.233289\n",
       "        min          12.000000\n",
       "        25%        5433.000000\n",
       "        50%        7914.000000\n",
       "        75%       11400.000000\n",
       "        max       23959.000000\n",
       "M       count    414259.000000\n",
       "        mean       9437.526040\n",
       "        std        5092.186210\n",
       "        min          12.000000\n",
       "        25%        5863.000000\n",
       "        50%        8098.000000\n",
       "        75%       12454.000000\n",
       "        max       23961.000000\n",
       "Name: Purchase, dtype: float64"
      ]
     },
     "execution_count": 37,
     "metadata": {},
     "output_type": "execute_result"
    }
   ],
   "source": [
    "gender_grp = df.groupby(['Gender'])\n",
    "gender_grp['Purchase'].describe()"
   ]
  },
  {
   "cell_type": "code",
   "execution_count": 38,
   "metadata": {
    "collapsed": false
   },
   "outputs": [
    {
     "data": {
      "text/plain": [
       "OrderedDict([('F', <matplotlib.axes._subplots.AxesSubplot at 0x1db5cb0b0b8>),\n",
       "             ('M', <matplotlib.axes._subplots.AxesSubplot at 0x1db5dbdf9b0>)])"
      ]
     },
     "execution_count": 38,
     "metadata": {},
     "output_type": "execute_result"
    },
    {
     "data": {
      "image/png": "[encoded data removed]",
      "text/plain": [
       "<matplotlib.figure.Figure at 0x1db5cafecc0>"
      ]
     },
     "metadata": {},
     "output_type": "display_data"
    }
   ],
   "source": [
    "gender_grp.boxplot(column=['Purchase'],return_type='axes')"
   ]
  },
  {
   "cell_type": "markdown",
   "metadata": {},
   "source": [
    "**Boxplot shows Female & Male are not significantly different but we will check by Hypothesis**"
   ]
  },
  {
   "cell_type": "code",
   "execution_count": 39,
   "metadata": {
    "collapsed": false
   },
   "outputs": [],
   "source": [
    "# make purchase data for hypotheis of Female & Male to find out either F & M are significantly different\n",
    "\n",
    "M_purchase = df[df['Gender']=='F']['Purchase']\n",
    "F_purchase = df[df['Gender']=='M']['Purchase']"
   ]
  },
  {
   "cell_type": "code",
   "execution_count": 40,
   "metadata": {
    "collapsed": false
   },
   "outputs": [
    {
     "data": {
      "text/plain": [
       "Ttest_indResult(statistic=-46.358248669626064, pvalue=0.0)"
      ]
     },
     "execution_count": 40,
     "metadata": {},
     "output_type": "execute_result"
    }
   ],
   "source": [
    "stats.ttest_ind(M_purchase, F_purchase,equal_var=False)  ## equal_var means if True means they have same sd "
   ]
  },
  {
   "cell_type": "markdown",
   "metadata": {},
   "source": [
    "**By doing Hypothesis we can say that they have mean purchase difference i.e they are significant**"
   ]
  },
  {
   "cell_type": "code",
   "execution_count": 41,
   "metadata": {
    "collapsed": false
   },
   "outputs": [
    {
     "data": {
      "text/plain": [
       "OrderedDict([('0-17',\n",
       "              <matplotlib.axes._subplots.AxesSubplot at 0x1db6c52bb70>),\n",
       "             ('18-25',\n",
       "              <matplotlib.axes._subplots.AxesSubplot at 0x1db62264a20>),\n",
       "             ('26-35',\n",
       "              <matplotlib.axes._subplots.AxesSubplot at 0x1db626f2668>),\n",
       "             ('36-45',\n",
       "              <matplotlib.axes._subplots.AxesSubplot at 0x1db62a5e630>),\n",
       "             ('46-50',\n",
       "              <matplotlib.axes._subplots.AxesSubplot at 0x1db62ee82b0>),\n",
       "             ('51-55',\n",
       "              <matplotlib.axes._subplots.AxesSubplot at 0x1db6b0e2eb8>),\n",
       "             ('55+',\n",
       "              <matplotlib.axes._subplots.AxesSubplot at 0x1db637852b0>)])"
      ]
     },
     "execution_count": 41,
     "metadata": {},
     "output_type": "execute_result"
    },
    {
     "data": {
      "image/png": "[encoded data removed]",
      "text/plain": [
       "<matplotlib.figure.Figure at 0x1db61b38be0>"
      ]
     },
     "metadata": {},
     "output_type": "display_data"
    }
   ],
   "source": [
    "## Age wise hypothesis\n",
    "\n",
    "age_grp = df.groupby(['Age'])\n",
    "age_grp.boxplot(column=['Purchase'],return_type='axes',figsize=(10,10))"
   ]
  },
  {
   "cell_type": "code",
   "execution_count": 42,
   "metadata": {
    "collapsed": false
   },
   "outputs": [
    {
     "data": {
      "text/plain": [
       "Age         \n",
       "0-17   count     15102.000000\n",
       "       mean       8933.464640\n",
       "       std        5111.114046\n",
       "       min          12.000000\n",
       "       25%        5328.000000\n",
       "       50%        7986.000000\n",
       "       75%       11874.000000\n",
       "       max       23955.000000\n",
       "18-25  count     99660.000000\n",
       "       mean       9169.663606\n",
       "       std        5034.321997\n",
       "       min          12.000000\n",
       "       25%        5415.000000\n",
       "       50%        8027.000000\n",
       "       75%       12028.000000\n",
       "       max       23958.000000\n",
       "26-35  count    219587.000000\n",
       "       mean       9252.690633\n",
       "       std        5010.527303\n",
       "       min          12.000000\n",
       "       25%        5475.000000\n",
       "       50%        8030.000000\n",
       "       75%       12047.000000\n",
       "       max       23961.000000\n",
       "36-45  count    110013.000000\n",
       "       mean       9331.350695\n",
       "       std        5022.923879\n",
       "       min          12.000000\n",
       "       25%        5876.000000\n",
       "       50%        8061.000000\n",
       "       75%       12107.000000\n",
       "       max       23960.000000\n",
       "46-50  count     45701.000000\n",
       "       mean       9208.625697\n",
       "       std        4967.216367\n",
       "       min          12.000000\n",
       "       25%        5888.000000\n",
       "       50%        8036.000000\n",
       "       75%       11997.000000\n",
       "       max       23960.000000\n",
       "51-55  count     38501.000000\n",
       "       mean       9534.808031\n",
       "       std        5087.368080\n",
       "       min          12.000000\n",
       "       25%        6017.000000\n",
       "       50%        8130.000000\n",
       "       75%       12462.000000\n",
       "       max       23960.000000\n",
       "55+    count     21504.000000\n",
       "       mean       9336.280459\n",
       "       std        5011.493996\n",
       "       min          12.000000\n",
       "       25%        6018.000000\n",
       "       50%        8105.500000\n",
       "       75%       11932.000000\n",
       "       max       23960.000000\n",
       "Name: Purchase, dtype: float64"
      ]
     },
     "execution_count": 42,
     "metadata": {},
     "output_type": "execute_result"
    }
   ],
   "source": [
    "age_grp['Purchase'].describe()"
   ]
  },
  {
   "cell_type": "code",
   "execution_count": 43,
   "metadata": {
    "collapsed": true
   },
   "outputs": [],
   "source": [
    "## subset the data as per levels from Age\n",
    "\n",
    "p_0to17 = df[df['Age']=='0-17']['Purchase']\n",
    "p_18to25 = df[df['Age']=='18-25']['Purchase']\n",
    "p_26to35 = df[df['Age']=='26-35']['Purchase']\n",
    "p_36to45 = df[df['Age']=='36-45']['Purchase']\n",
    "p_46to50 = df[df['Age']=='46-50']['Purchase']\n",
    "p_51to55 = df[df['Age']=='51-55']['Purchase']\n",
    "p_55 = df[df['Age']=='55+']['Purchase']"
   ]
  },
  {
   "cell_type": "code",
   "execution_count": 44,
   "metadata": {
    "collapsed": false
   },
   "outputs": [
    {
     "data": {
      "text/plain": [
       "F_onewayResult(statistic=40.57579909450407, pvalue=1.053563939251671e-49)"
      ]
     },
     "execution_count": 44,
     "metadata": {},
     "output_type": "execute_result"
    }
   ],
   "source": [
    "## Test the anova\n",
    "\n",
    "stats.f_oneway(p_0to17,p_18to25,p_26to35,p_36to45,p_46to50,p_51to55,p_55)"
   ]
  },
  {
   "cell_type": "markdown",
   "metadata": {},
   "source": [
    "*Age groups have different purchase mean,so we will consider this Age variable for model building.\n"
   ]
  },
  {
   "cell_type": "code",
   "execution_count": 45,
   "metadata": {
    "collapsed": false
   },
   "outputs": [
    {
     "data": {
      "text/plain": [
       "Marital_Status       \n",
       "0               count    324731.000000\n",
       "                mean       9265.907619\n",
       "                std        5027.347859\n",
       "                min          12.000000\n",
       "                25%        5605.000000\n",
       "                50%        8044.000000\n",
       "                75%       12061.000000\n",
       "                max       23961.000000\n",
       "1               count    225337.000000\n",
       "                mean       9261.174574\n",
       "                std        5016.897378\n",
       "                min          12.000000\n",
       "                25%        5843.000000\n",
       "                50%        8051.000000\n",
       "                75%       12042.000000\n",
       "                max       23961.000000\n",
       "Name: Purchase, dtype: float64"
      ]
     },
     "execution_count": 45,
     "metadata": {},
     "output_type": "execute_result"
    }
   ],
   "source": [
    "grp_marital = df.groupby(['Marital_Status'])\n",
    "grp_marital['Purchase'].describe()"
   ]
  },
  {
   "cell_type": "code",
   "execution_count": 46,
   "metadata": {
    "collapsed": false
   },
   "outputs": [
    {
     "data": {
      "text/plain": [
       "OrderedDict([(0, <matplotlib.axes._subplots.AxesSubplot at 0x1db6a2c3390>),\n",
       "             (1, <matplotlib.axes._subplots.AxesSubplot at 0x1db6927b390>)])"
      ]
     },
     "execution_count": 46,
     "metadata": {},
     "output_type": "execute_result"
    },
    {
     "data": {
      "image/png": "[encoded data removed]",
      "text/plain": [
       "<matplotlib.figure.Figure at 0x1db6a2e5550>"
      ]
     },
     "metadata": {},
     "output_type": "display_data"
    }
   ],
   "source": [
    "grp_marital.boxplot(column=['Purchase'],return_type='axes',figsize=(10,5))"
   ]
  },
  {
   "cell_type": "code",
   "execution_count": 47,
   "metadata": {
    "collapsed": false
   },
   "outputs": [
    {
     "data": {
      "text/plain": [
       "F_onewayResult(statistic=0.11810893524268033, pvalue=0.73109475264753288)"
      ]
     },
     "execution_count": 47,
     "metadata": {},
     "output_type": "execute_result"
    }
   ],
   "source": [
    "## subset Marital status\n",
    "\n",
    "m0 = df[df['Marital_Status']== 0]['Purchase']\n",
    "m1 = df[df['Marital_Status']== 1]['Purchase']\n",
    "\n",
    "## Test Anova \n",
    "stats.f_oneway(m0,m1)"
   ]
  },
  {
   "cell_type": "code",
   "execution_count": 48,
   "metadata": {
    "collapsed": false
   },
   "outputs": [
    {
     "data": {
      "text/plain": [
       "City_Category       \n",
       "A              count    147720.000000\n",
       "               mean       8911.939216\n",
       "               std        4892.115238\n",
       "               min          12.000000\n",
       "               25%        5403.000000\n",
       "               50%        7931.000000\n",
       "               75%       11786.000000\n",
       "               max       23961.000000\n",
       "B              count    231173.000000\n",
       "               mean       9151.300563\n",
       "               std        4955.496566\n",
       "               min          12.000000\n",
       "               25%        5460.000000\n",
       "               50%        8005.000000\n",
       "               75%       11986.000000\n",
       "               max       23960.000000\n",
       "C              count    171175.000000\n",
       "               mean       9719.920993\n",
       "               std        5189.465121\n",
       "               min          12.000000\n",
       "               25%        6031.500000\n",
       "               50%        8585.000000\n",
       "               75%       13197.000000\n",
       "               max       23961.000000\n",
       "Name: Purchase, dtype: float64"
      ]
     },
     "execution_count": 48,
     "metadata": {},
     "output_type": "execute_result"
    }
   ],
   "source": [
    "city_grp = df.groupby(['City_Category'])\n",
    "city_grp['Purchase'].describe()"
   ]
  },
  {
   "cell_type": "code",
   "execution_count": 49,
   "metadata": {
    "collapsed": false
   },
   "outputs": [
    {
     "data": {
      "text/plain": [
       "OrderedDict([('A', <matplotlib.axes._subplots.AxesSubplot at 0x1db691cf9b0>),\n",
       "             ('B', <matplotlib.axes._subplots.AxesSubplot at 0x1db6910ff60>),\n",
       "             ('C', <matplotlib.axes._subplots.AxesSubplot at 0x1db69098eb8>)])"
      ]
     },
     "execution_count": 49,
     "metadata": {},
     "output_type": "execute_result"
    },
    {
     "data": {
      "image/png": "[encoded data removed]",
      "text/plain": [
       "<matplotlib.figure.Figure at 0x1db691c4e48>"
      ]
     },
     "metadata": {},
     "output_type": "display_data"
    }
   ],
   "source": [
    "city_grp.boxplot(column=['Purchase'],return_type='axes',figsize=(10,10))"
   ]
  },
  {
   "cell_type": "code",
   "execution_count": 50,
   "metadata": {
    "collapsed": false
   },
   "outputs": [
    {
     "data": {
      "text/plain": [
       "F_onewayResult(statistic=1130.7459610102974, pvalue=0.0)"
      ]
     },
     "execution_count": 50,
     "metadata": {},
     "output_type": "execute_result"
    }
   ],
   "source": [
    "# Subset City_Category\n",
    "city_A = df[df['City_Category']=='A']['Purchase']\n",
    "city_B = df[df['City_Category']=='B']['Purchase']\n",
    "city_C = df[df['City_Category']=='C']['Purchase']\n",
    "\n",
    "# Test ANOVA\n",
    "stats.f_oneway(city_A,city_B,city_C)"
   ]
  },
  {
   "cell_type": "markdown",
   "metadata": {},
   "source": [
    "*City_Category variables groups have signifiacntly different purchase mean, we can take this variable for analysis.*"
   ]
  },
  {
   "cell_type": "code",
   "execution_count": 51,
   "metadata": {
    "collapsed": false
   },
   "outputs": [
    {
     "data": {
      "text/plain": [
       "Stay_In_Current_City_Years       \n",
       "0                           count     74398.000000\n",
       "                            mean       9180.075123\n",
       "                            std        4990.479940\n",
       "                            min          12.000000\n",
       "                            25%        5480.000000\n",
       "                            50%        8025.000000\n",
       "                            75%       11990.000000\n",
       "                            max       23960.000000\n",
       "1                           count    193821.000000\n",
       "                            mean       9250.145923\n",
       "                            std        5027.476933\n",
       "                            min          12.000000\n",
       "                            25%        5500.000000\n",
       "                            50%        8041.000000\n",
       "                            75%       12042.000000\n",
       "                            max       23961.000000\n",
       "2                           count    101838.000000\n",
       "                            mean       9320.429810\n",
       "                            std        5044.588224\n",
       "                            min          12.000000\n",
       "                            25%        5846.000000\n",
       "                            50%        8072.000000\n",
       "                            75%       12117.000000\n",
       "                            max       23961.000000\n",
       "3                           count     95285.000000\n",
       "                            mean       9286.904119\n",
       "                            std        5020.343541\n",
       "                            min          12.000000\n",
       "                            25%        5832.000000\n",
       "                            50%        8047.000000\n",
       "                            75%       12075.000000\n",
       "                            max       23961.000000\n",
       "4+                          count     84726.000000\n",
       "                            mean       9275.598872\n",
       "                            std        5017.627594\n",
       "                            min          12.000000\n",
       "                            25%        5844.000000\n",
       "                            50%        8052.000000\n",
       "                            75%       12038.000000\n",
       "                            max       23958.000000\n",
       "Name: Purchase, dtype: float64"
      ]
     },
     "execution_count": 51,
     "metadata": {},
     "output_type": "execute_result"
    }
   ],
   "source": [
    "# group Stay_In_Current_City_Years\n",
    "grp_yrs = df.groupby(['Stay_In_Current_City_Years'])\n",
    "grp_yrs['Purchase'].describe()"
   ]
  },
  {
   "cell_type": "code",
   "execution_count": 52,
   "metadata": {
    "collapsed": true
   },
   "outputs": [
    {
     "data": {
      "text/plain": [
       "OrderedDict([('0', <matplotlib.axes._subplots.AxesSubplot at 0x1db68ef3dd8>),\n",
       "             ('1', <matplotlib.axes._subplots.AxesSubplot at 0x1db68e7b7f0>),\n",
       "             ('2', <matplotlib.axes._subplots.AxesSubplot at 0x1db68e08160>),\n",
       "             ('3', <matplotlib.axes._subplots.AxesSubplot at 0x1db68daf048>),\n",
       "             ('4+', <matplotlib.axes._subplots.AxesSubplot at 0x1db68d3c978>)])"
      ]
     },
     "execution_count": 52,
     "metadata": {},
     "output_type": "execute_result"
    },
    {
     "data": {
      "image/png": "[encoded data removed]",
      "text/plain": [
       "<matplotlib.figure.Figure at 0x1db68f1db00>"
      ]
     },
     "metadata": {},
     "output_type": "display_data"
    }
   ],
   "source": [
    "grp_yrs.boxplot(column=['Purchase'],return_type='axes',figsize=(10,10))"
   ]
  },
  {
   "cell_type": "code",
   "execution_count": 53,
   "metadata": {
    "collapsed": false
   },
   "outputs": [
    {
     "data": {
      "text/plain": [
       "F_onewayResult(statistic=267.68059686458616, pvalue=9.8438891529135884e-286)"
      ]
     },
     "execution_count": 53,
     "metadata": {},
     "output_type": "execute_result"
    }
   ],
   "source": [
    "# subset Product ID\n",
    "\n",
    "p1 = df[df['Product_ID']=='P00000142']['Purchase']\n",
    "p2 = df[df['Product_ID']=='P00000242']['Purchase']\n",
    "p3 = df[df['Product_ID']=='P00000342']['Purchase']\n",
    "p4 = df[df['Product_ID']=='P00000442']['Purchase']\n",
    "p5 = df[df['Product_ID']=='P0099642']['Purchase']\n",
    "p6 = df[df['Product_ID']=='P0099742']['Purchase']\n",
    "p7 = df[df['Product_ID']=='P0099842']['Purchase']\n",
    "p8 = df[df['Product_ID']=='P0099942']['Purchase']\n",
    "\n",
    "# test anova\n",
    "stats.f_oneway(p1,p2,p3,p4,p5,p6,p7,p8)"
   ]
  },
  {
   "cell_type": "markdown",
   "metadata": {},
   "source": [
    "*Product ID groups have significant difference in purchase mean*"
   ]
  },
  {
   "cell_type": "code",
   "execution_count": 54,
   "metadata": {
    "collapsed": false
   },
   "outputs": [
    {
     "data": {
      "text/plain": [
       "Product_Category_1       \n",
       "1                   count    140378.000000\n",
       "                    mean      13606.218596\n",
       "                    std        4298.834894\n",
       "                    min        3790.000000\n",
       "                    25%       11546.000000\n",
       "                    50%       15245.000000\n",
       "                    75%       15812.000000\n",
       "                    max       19708.000000\n",
       "2                   count     23864.000000\n",
       "                    mean      11251.935384\n",
       "                    std        3570.642713\n",
       "                    min        3176.000000\n",
       "                    25%        9645.750000\n",
       "                    50%       12728.500000\n",
       "                    75%       13212.000000\n",
       "                    max       16504.000000\n",
       "3                   count     20213.000000\n",
       "                    mean      10096.705734\n",
       "                    std        2824.626957\n",
       "                    min        2638.000000\n",
       "                    25%        8198.000000\n",
       "                    50%       10742.000000\n",
       "                    75%       13211.000000\n",
       "                    max       13717.000000\n",
       "4                   count     11753.000000\n",
       "                    mean       2329.659491\n",
       "                    std         812.540292\n",
       "                    min         684.000000\n",
       "                    25%        2058.000000\n",
       "                    50%        2175.000000\n",
       "                                 ...      \n",
       "17                  std        2333.993073\n",
       "                    min        2616.000000\n",
       "                    25%        8063.500000\n",
       "                    50%       10435.500000\n",
       "                    75%       12776.750000\n",
       "                    max       13264.000000\n",
       "18                  count      3125.000000\n",
       "                    mean       2972.864320\n",
       "                    std         727.051652\n",
       "                    min         754.000000\n",
       "                    25%        2359.000000\n",
       "                    50%        3071.000000\n",
       "                    75%        3769.000000\n",
       "                    max        3900.000000\n",
       "19                  count      1603.000000\n",
       "                    mean         37.041797\n",
       "                    std          16.869148\n",
       "                    min          12.000000\n",
       "                    25%          24.000000\n",
       "                    50%          37.000000\n",
       "                    75%          50.000000\n",
       "                    max          62.000000\n",
       "20                  count      2550.000000\n",
       "                    mean        370.481176\n",
       "                    std         167.116975\n",
       "                    min         118.000000\n",
       "                    25%         242.000000\n",
       "                    50%         368.000000\n",
       "                    75%         490.000000\n",
       "                    max         613.000000\n",
       "Name: Purchase, dtype: float64"
      ]
     },
     "execution_count": 54,
     "metadata": {},
     "output_type": "execute_result"
    }
   ],
   "source": [
    "# group Product_Category_1\n",
    "grp_cat1 = df.groupby(['Product_Category_1'])\n",
    "grp_cat1['Purchase'].describe()"
   ]
  },
  {
   "cell_type": "code",
   "execution_count": 55,
   "metadata": {
    "collapsed": false
   },
   "outputs": [
    {
     "data": {
      "text/plain": [
       "Product_Category_2       \n",
       "2.0                 count    49217.000000\n",
       "                    mean     13619.356401\n",
       "                    std       4275.570831\n",
       "                    min       3790.000000\n",
       "                    25%      11551.000000\n",
       "                    50%      15241.000000\n",
       "                    75%      15810.000000\n",
       "                    max      19708.000000\n",
       "3.0                 count     2884.000000\n",
       "                    mean     11235.359570\n",
       "                    std       3581.718925\n",
       "                    min       3177.000000\n",
       "                    25%       9651.500000\n",
       "                    50%      12714.500000\n",
       "                    75%      13188.250000\n",
       "                    max      19573.000000\n",
       "4.0                 count    25677.000000\n",
       "                    mean     10215.192001\n",
       "                    std       3172.992496\n",
       "                    min       2639.000000\n",
       "                    25%       8174.000000\n",
       "                    50%      10681.000000\n",
       "                    75%      13066.000000\n",
       "                    max      19612.000000\n",
       "5.0                 count    26235.000000\n",
       "                    mean      9027.821574\n",
       "                    std       5807.891048\n",
       "                    min        684.000000\n",
       "                    25%       2826.000000\n",
       "                    50%       9892.000000\n",
       "                                 ...     \n",
       "15.0                std       5608.407152\n",
       "                    min        187.000000\n",
       "                    25%       5945.000000\n",
       "                    50%       8857.000000\n",
       "                    75%      15415.000000\n",
       "                    max      23961.000000\n",
       "16.0                count    43255.000000\n",
       "                    mean     10295.681933\n",
       "                    std       5778.651927\n",
       "                    min        185.000000\n",
       "                    25%       6008.000000\n",
       "                    50%       9832.000000\n",
       "                    75%      15461.000000\n",
       "                    max      23960.000000\n",
       "17.0                count    13320.000000\n",
       "                    mean      9421.576577\n",
       "                    std       4146.850410\n",
       "                    min        350.000000\n",
       "                    25%       7141.750000\n",
       "                    50%       8314.500000\n",
       "                    75%      10027.000000\n",
       "                    max      21569.000000\n",
       "18.0                count     2770.000000\n",
       "                    mean      9352.440433\n",
       "                    std       4862.383695\n",
       "                    min       1717.000000\n",
       "                    25%       5463.750000\n",
       "                    50%       7991.000000\n",
       "                    75%      12112.000000\n",
       "                    max      19695.000000\n",
       "Name: Purchase, dtype: float64"
      ]
     },
     "execution_count": 55,
     "metadata": {},
     "output_type": "execute_result"
    }
   ],
   "source": [
    "# group Product_Category_2\n",
    "grp_cat2 = df.groupby(['Product_Category_2'])\n",
    "grp_cat2['Purchase'].describe()"
   ]
  },
  {
   "cell_type": "code",
   "execution_count": 56,
   "metadata": {
    "collapsed": false
   },
   "outputs": [
    {
     "data": {
      "text/plain": [
       "Product_Category_3       \n",
       "3.0                 count      613.000000\n",
       "                    mean     13939.696574\n",
       "                    std       4262.999709\n",
       "                    min       3846.000000\n",
       "                    25%      11590.000000\n",
       "                    50%      15288.000000\n",
       "                    75%      15886.000000\n",
       "                    max      19698.000000\n",
       "4.0                 count     1875.000000\n",
       "                    mean      9794.386667\n",
       "                    std       4085.114927\n",
       "                    min       3177.000000\n",
       "                    25%       6641.000000\n",
       "                    50%       9850.000000\n",
       "                    75%      12910.500000\n",
       "                    max      19680.000000\n",
       "5.0                 count    16658.000000\n",
       "                    mean     12117.786889\n",
       "                    std       3931.937020\n",
       "                    min       2639.000000\n",
       "                    25%       9834.250000\n",
       "                    50%      11767.500000\n",
       "                    75%      15334.000000\n",
       "                    max      19708.000000\n",
       "6.0                 count     4890.000000\n",
       "                    mean     13194.311043\n",
       "                    std       4149.266327\n",
       "                    min       3792.000000\n",
       "                    25%      11499.250000\n",
       "                    50%      15174.500000\n",
       "                                 ...     \n",
       "15.0                std       4482.385745\n",
       "                    min        686.000000\n",
       "                    25%       9565.000000\n",
       "                    50%      12011.000000\n",
       "                    75%      15628.000000\n",
       "                    max      20686.000000\n",
       "16.0                count    32636.000000\n",
       "                    mean     11981.890642\n",
       "                    std       5637.374042\n",
       "                    min        185.000000\n",
       "                    25%       7775.000000\n",
       "                    50%      11916.000000\n",
       "                    75%      15801.250000\n",
       "                    max      23959.000000\n",
       "17.0                count    16702.000000\n",
       "                    mean     11769.943001\n",
       "                    std       5090.429146\n",
       "                    min        374.000000\n",
       "                    25%       7859.000000\n",
       "                    50%      11431.500000\n",
       "                    75%      15704.750000\n",
       "                    max      21525.000000\n",
       "18.0                count     4629.000000\n",
       "                    mean     10993.980773\n",
       "                    std       5035.439074\n",
       "                    min        686.000000\n",
       "                    25%       6999.000000\n",
       "                    50%      11589.000000\n",
       "                    75%      15523.000000\n",
       "                    max      19705.000000\n",
       "Name: Purchase, dtype: float64"
      ]
     },
     "execution_count": 56,
     "metadata": {},
     "output_type": "execute_result"
    }
   ],
   "source": [
    "# group Product_Category_3\n",
    "grp_cat3 = df.groupby(['Product_Category_3'])\n",
    "grp_cat3['Purchase'].describe()"
   ]
  },
  {
   "cell_type": "code",
   "execution_count": 57,
   "metadata": {
    "collapsed": false
   },
   "outputs": [
    {
     "data": {
      "text/plain": [
       "Occupation       \n",
       "0           count    69638.000000\n",
       "            mean      9124.428588\n",
       "            std       4971.757402\n",
       "            min         12.000000\n",
       "            25%       5445.000000\n",
       "            50%       8001.000000\n",
       "            75%      11957.000000\n",
       "            max      23961.000000\n",
       "1           count    47426.000000\n",
       "            mean      8953.193270\n",
       "            std       4838.482159\n",
       "            min         12.000000\n",
       "            25%       5825.000000\n",
       "            50%       7966.000000\n",
       "            75%      11702.750000\n",
       "            max      23960.000000\n",
       "2           count    26588.000000\n",
       "            mean      8952.481683\n",
       "            std       4939.418663\n",
       "            min         12.000000\n",
       "            25%       5419.000000\n",
       "            50%       7952.000000\n",
       "            75%      11718.000000\n",
       "            max      23955.000000\n",
       "3           count    17650.000000\n",
       "            mean      9178.593088\n",
       "            std       5000.942719\n",
       "            min         12.000000\n",
       "            25%       5478.000000\n",
       "            50%       8008.000000\n",
       "                         ...     \n",
       "17          std       5137.024383\n",
       "            min         12.000000\n",
       "            25%       6012.000000\n",
       "            50%       8635.000000\n",
       "            75%      13292.500000\n",
       "            max      23961.000000\n",
       "18          count     6622.000000\n",
       "            mean      9169.655844\n",
       "            std       4987.697451\n",
       "            min         12.000000\n",
       "            25%       5420.000000\n",
       "            50%       7955.000000\n",
       "            75%      12062.750000\n",
       "            max      23894.000000\n",
       "19          count     8461.000000\n",
       "            mean      8710.627231\n",
       "            std       5024.181000\n",
       "            min         12.000000\n",
       "            25%       5292.000000\n",
       "            50%       7840.000000\n",
       "            75%      11745.000000\n",
       "            max      23939.000000\n",
       "20          count    33562.000000\n",
       "            mean      8836.494905\n",
       "            std       4919.662409\n",
       "            min         12.000000\n",
       "            25%       5389.000000\n",
       "            50%       7903.500000\n",
       "            75%      11677.000000\n",
       "            max      23960.000000\n",
       "Name: Purchase, dtype: float64"
      ]
     },
     "execution_count": 57,
     "metadata": {},
     "output_type": "execute_result"
    }
   ],
   "source": [
    "# group Occupation\n",
    "grp_occ = df.groupby(['Occupation'])\n",
    "grp_occ['Purchase'].describe()"
   ]
  },
  {
   "cell_type": "code",
   "execution_count": 58,
   "metadata": {
    "collapsed": false
   },
   "outputs": [
    {
     "data": {
      "text/plain": [
       "User_ID                         int64\n",
       "Product_ID                     object\n",
       "Gender                         object\n",
       "Age                            object\n",
       "Occupation                      int64\n",
       "City_Category                  object\n",
       "Stay_In_Current_City_Years     object\n",
       "Marital_Status                  int64\n",
       "Product_Category_1              int64\n",
       "Product_Category_2            float64\n",
       "Product_Category_3            float64\n",
       "Purchase                        int64\n",
       "dtype: object"
      ]
     },
     "execution_count": 58,
     "metadata": {},
     "output_type": "execute_result"
    }
   ],
   "source": [
    "df.dtypes"
   ]
  },
  {
   "cell_type": "code",
   "execution_count": 59,
   "metadata": {
    "collapsed": false
   },
   "outputs": [
    {
     "data": {
      "text/html": [
       "<div>\n",
       "<table border=\"1\" class=\"dataframe\">\n",
       "  <thead>\n",
       "    <tr style=\"text-align: right;\">\n",
       "      <th></th>\n",
       "      <th></th>\n",
       "      <th></th>\n",
       "      <th></th>\n",
       "      <th>Purchase</th>\n",
       "    </tr>\n",
       "    <tr>\n",
       "      <th>Gender</th>\n",
       "      <th>City_Category</th>\n",
       "      <th>Stay_In_Current_City_Years</th>\n",
       "      <th>Occupation</th>\n",
       "      <th></th>\n",
       "    </tr>\n",
       "  </thead>\n",
       "  <tbody>\n",
       "    <tr>\n",
       "      <th rowspan=\"30\" valign=\"top\">F</th>\n",
       "      <th rowspan=\"30\" valign=\"top\">A</th>\n",
       "      <th rowspan=\"17\" valign=\"top\">0</th>\n",
       "      <th>0</th>\n",
       "      <td>9076.943075</td>\n",
       "    </tr>\n",
       "    <tr>\n",
       "      <th>1</th>\n",
       "      <td>7740.089076</td>\n",
       "    </tr>\n",
       "    <tr>\n",
       "      <th>2</th>\n",
       "      <td>7469.801178</td>\n",
       "    </tr>\n",
       "    <tr>\n",
       "      <th>3</th>\n",
       "      <td>5854.000000</td>\n",
       "    </tr>\n",
       "    <tr>\n",
       "      <th>4</th>\n",
       "      <td>9290.190926</td>\n",
       "    </tr>\n",
       "    <tr>\n",
       "      <th>6</th>\n",
       "      <td>10941.537500</td>\n",
       "    </tr>\n",
       "    <tr>\n",
       "      <th>7</th>\n",
       "      <td>7963.650124</td>\n",
       "    </tr>\n",
       "    <tr>\n",
       "      <th>8</th>\n",
       "      <td>12992.071429</td>\n",
       "    </tr>\n",
       "    <tr>\n",
       "      <th>9</th>\n",
       "      <td>10109.862069</td>\n",
       "    </tr>\n",
       "    <tr>\n",
       "      <th>10</th>\n",
       "      <td>5631.365714</td>\n",
       "    </tr>\n",
       "    <tr>\n",
       "      <th>11</th>\n",
       "      <td>8031.942857</td>\n",
       "    </tr>\n",
       "    <tr>\n",
       "      <th>12</th>\n",
       "      <td>6733.936170</td>\n",
       "    </tr>\n",
       "    <tr>\n",
       "      <th>14</th>\n",
       "      <td>9187.691429</td>\n",
       "    </tr>\n",
       "    <tr>\n",
       "      <th>15</th>\n",
       "      <td>9905.491525</td>\n",
       "    </tr>\n",
       "    <tr>\n",
       "      <th>17</th>\n",
       "      <td>9752.066667</td>\n",
       "    </tr>\n",
       "    <tr>\n",
       "      <th>19</th>\n",
       "      <td>9797.644330</td>\n",
       "    </tr>\n",
       "    <tr>\n",
       "      <th>20</th>\n",
       "      <td>10551.464646</td>\n",
       "    </tr>\n",
       "    <tr>\n",
       "      <th rowspan=\"13\" valign=\"top\">1</th>\n",
       "      <th>0</th>\n",
       "      <td>9289.372696</td>\n",
       "    </tr>\n",
       "    <tr>\n",
       "      <th>1</th>\n",
       "      <td>8738.075061</td>\n",
       "    </tr>\n",
       "    <tr>\n",
       "      <th>2</th>\n",
       "      <td>8161.251721</td>\n",
       "    </tr>\n",
       "    <tr>\n",
       "      <th>3</th>\n",
       "      <td>9559.028037</td>\n",
       "    </tr>\n",
       "    <tr>\n",
       "      <th>4</th>\n",
       "      <td>9539.525656</td>\n",
       "    </tr>\n",
       "    <tr>\n",
       "      <th>6</th>\n",
       "      <td>9051.387676</td>\n",
       "    </tr>\n",
       "    <tr>\n",
       "      <th>7</th>\n",
       "      <td>8334.077356</td>\n",
       "    </tr>\n",
       "    <tr>\n",
       "      <th>9</th>\n",
       "      <td>9071.531250</td>\n",
       "    </tr>\n",
       "    <tr>\n",
       "      <th>10</th>\n",
       "      <td>7998.619760</td>\n",
       "    </tr>\n",
       "    <tr>\n",
       "      <th>11</th>\n",
       "      <td>9283.222222</td>\n",
       "    </tr>\n",
       "    <tr>\n",
       "      <th>13</th>\n",
       "      <td>9381.538462</td>\n",
       "    </tr>\n",
       "    <tr>\n",
       "      <th>14</th>\n",
       "      <td>7563.811518</td>\n",
       "    </tr>\n",
       "    <tr>\n",
       "      <th>15</th>\n",
       "      <td>10370.326761</td>\n",
       "    </tr>\n",
       "    <tr>\n",
       "      <th>...</th>\n",
       "      <th>...</th>\n",
       "      <th>...</th>\n",
       "      <th>...</th>\n",
       "      <td>...</td>\n",
       "    </tr>\n",
       "    <tr>\n",
       "      <th rowspan=\"30\" valign=\"top\">M</th>\n",
       "      <th rowspan=\"30\" valign=\"top\">C</th>\n",
       "      <th rowspan=\"10\" valign=\"top\">3</th>\n",
       "      <th>11</th>\n",
       "      <td>9417.670103</td>\n",
       "    </tr>\n",
       "    <tr>\n",
       "      <th>12</th>\n",
       "      <td>9676.302842</td>\n",
       "    </tr>\n",
       "    <tr>\n",
       "      <th>13</th>\n",
       "      <td>9427.476190</td>\n",
       "    </tr>\n",
       "    <tr>\n",
       "      <th>14</th>\n",
       "      <td>9887.355856</td>\n",
       "    </tr>\n",
       "    <tr>\n",
       "      <th>15</th>\n",
       "      <td>9888.273159</td>\n",
       "    </tr>\n",
       "    <tr>\n",
       "      <th>16</th>\n",
       "      <td>9771.457297</td>\n",
       "    </tr>\n",
       "    <tr>\n",
       "      <th>17</th>\n",
       "      <td>10337.822024</td>\n",
       "    </tr>\n",
       "    <tr>\n",
       "      <th>18</th>\n",
       "      <td>9233.128713</td>\n",
       "    </tr>\n",
       "    <tr>\n",
       "      <th>19</th>\n",
       "      <td>8119.732308</td>\n",
       "    </tr>\n",
       "    <tr>\n",
       "      <th>20</th>\n",
       "      <td>10329.474083</td>\n",
       "    </tr>\n",
       "    <tr>\n",
       "      <th rowspan=\"20\" valign=\"top\">4+</th>\n",
       "      <th>0</th>\n",
       "      <td>9288.373777</td>\n",
       "    </tr>\n",
       "    <tr>\n",
       "      <th>1</th>\n",
       "      <td>9566.927503</td>\n",
       "    </tr>\n",
       "    <tr>\n",
       "      <th>2</th>\n",
       "      <td>10530.136722</td>\n",
       "    </tr>\n",
       "    <tr>\n",
       "      <th>3</th>\n",
       "      <td>11362.631579</td>\n",
       "    </tr>\n",
       "    <tr>\n",
       "      <th>4</th>\n",
       "      <td>10173.145023</td>\n",
       "    </tr>\n",
       "    <tr>\n",
       "      <th>5</th>\n",
       "      <td>10422.669355</td>\n",
       "    </tr>\n",
       "    <tr>\n",
       "      <th>6</th>\n",
       "      <td>8849.021563</td>\n",
       "    </tr>\n",
       "    <tr>\n",
       "      <th>7</th>\n",
       "      <td>10056.891414</td>\n",
       "    </tr>\n",
       "    <tr>\n",
       "      <th>8</th>\n",
       "      <td>9826.254098</td>\n",
       "    </tr>\n",
       "    <tr>\n",
       "      <th>10</th>\n",
       "      <td>9712.930175</td>\n",
       "    </tr>\n",
       "    <tr>\n",
       "      <th>11</th>\n",
       "      <td>9604.054233</td>\n",
       "    </tr>\n",
       "    <tr>\n",
       "      <th>12</th>\n",
       "      <td>10091.613767</td>\n",
       "    </tr>\n",
       "    <tr>\n",
       "      <th>13</th>\n",
       "      <td>10505.652455</td>\n",
       "    </tr>\n",
       "    <tr>\n",
       "      <th>14</th>\n",
       "      <td>10074.801521</td>\n",
       "    </tr>\n",
       "    <tr>\n",
       "      <th>15</th>\n",
       "      <td>10087.540426</td>\n",
       "    </tr>\n",
       "    <tr>\n",
       "      <th>16</th>\n",
       "      <td>10058.638430</td>\n",
       "    </tr>\n",
       "    <tr>\n",
       "      <th>17</th>\n",
       "      <td>10420.888683</td>\n",
       "    </tr>\n",
       "    <tr>\n",
       "      <th>18</th>\n",
       "      <td>9201.133545</td>\n",
       "    </tr>\n",
       "    <tr>\n",
       "      <th>19</th>\n",
       "      <td>9385.587002</td>\n",
       "    </tr>\n",
       "    <tr>\n",
       "      <th>20</th>\n",
       "      <td>8599.007092</td>\n",
       "    </tr>\n",
       "  </tbody>\n",
       "</table>\n",
       "<p>543 rows × 1 columns</p>\n",
       "</div>"
      ],
      "text/plain": [
       "                                                                Purchase\n",
       "Gender City_Category Stay_In_Current_City_Years Occupation              \n",
       "F      A             0                          0            9076.943075\n",
       "                                                1            7740.089076\n",
       "                                                2            7469.801178\n",
       "                                                3            5854.000000\n",
       "                                                4            9290.190926\n",
       "                                                6           10941.537500\n",
       "                                                7            7963.650124\n",
       "                                                8           12992.071429\n",
       "                                                9           10109.862069\n",
       "                                                10           5631.365714\n",
       "                                                11           8031.942857\n",
       "                                                12           6733.936170\n",
       "                                                14           9187.691429\n",
       "                                                15           9905.491525\n",
       "                                                17           9752.066667\n",
       "                                                19           9797.644330\n",
       "                                                20          10551.464646\n",
       "                     1                          0            9289.372696\n",
       "                                                1            8738.075061\n",
       "                                                2            8161.251721\n",
       "                                                3            9559.028037\n",
       "                                                4            9539.525656\n",
       "                                                6            9051.387676\n",
       "                                                7            8334.077356\n",
       "                                                9            9071.531250\n",
       "                                                10           7998.619760\n",
       "                                                11           9283.222222\n",
       "                                                13           9381.538462\n",
       "                                                14           7563.811518\n",
       "                                                15          10370.326761\n",
       "...                                                                  ...\n",
       "M      C             3                          11           9417.670103\n",
       "                                                12           9676.302842\n",
       "                                                13           9427.476190\n",
       "                                                14           9887.355856\n",
       "                                                15           9888.273159\n",
       "                                                16           9771.457297\n",
       "                                                17          10337.822024\n",
       "                                                18           9233.128713\n",
       "                                                19           8119.732308\n",
       "                                                20          10329.474083\n",
       "                     4+                         0            9288.373777\n",
       "                                                1            9566.927503\n",
       "                                                2           10530.136722\n",
       "                                                3           11362.631579\n",
       "                                                4           10173.145023\n",
       "                                                5           10422.669355\n",
       "                                                6            8849.021563\n",
       "                                                7           10056.891414\n",
       "                                                8            9826.254098\n",
       "                                                10           9712.930175\n",
       "                                                11           9604.054233\n",
       "                                                12          10091.613767\n",
       "                                                13          10505.652455\n",
       "                                                14          10074.801521\n",
       "                                                15          10087.540426\n",
       "                                                16          10058.638430\n",
       "                                                17          10420.888683\n",
       "                                                18           9201.133545\n",
       "                                                19           9385.587002\n",
       "                                                20           8599.007092\n",
       "\n",
       "[543 rows x 1 columns]"
      ]
     },
     "execution_count": 59,
     "metadata": {},
     "output_type": "execute_result"
    }
   ],
   "source": [
    "### Pivot Table \n",
    "\n",
    "impute_grps = df.pivot_table(values=[\"Purchase\"], index=[\"Gender\",\"City_Category\",\"Stay_In_Current_City_Years\",\"Occupation\"], aggfunc=np.mean)\n",
    "impute_grps"
   ]
  },
  {
   "cell_type": "markdown",
   "metadata": {},
   "source": [
    "**Categorical & Categorical**: To find the relationship between two categorical variables, we can use following methods:\n",
    "\n",
    "*Two-way table*: We can start analyzing the relationship by creating a two-way table of count and count%. The rows represents the category of one variable and the columns represent the categories of the other variable. We show count or count% of observations available in each combination of row and column categories.\n",
    "\n",
    "*Stacked Column Chart*: This method is more of a visual form of Two-way table.\n",
    "\n",
    "*Chi-Square Test*: This test is used to derive the statistical significance of relationship between the variables. Also, it tests whether the evidence in the sample is strong enough to generalize that the relationship for a larger population as well. Chi-square is based on the difference between the expected and observed frequencies in one or more categories in the two-way table. It returns probability for the computed chi-square distribution with the degree of freedom.\n",
    "\n",
    "Probability of 0: It indicates that both categorical variable are dependent\n",
    "Probability of 1: It shows that both variables are independent.\n",
    "Probability less than 0.05: It indicates that the relationship between the variables is significant at 95% confidence.\n"
   ]
  },
  {
   "cell_type": "code",
   "execution_count": 60,
   "metadata": {
    "collapsed": false,
    "scrolled": true
   },
   "outputs": [
    {
     "data": {
      "text/plain": [
       "<matplotlib.axes._subplots.AxesSubplot at 0x1db68aedcc0>"
      ]
     },
     "execution_count": 60,
     "metadata": {},
     "output_type": "execute_result"
    },
    {
     "data": {
      "image/png": "[encoded data removed]",
      "text/plain": [
       "<matplotlib.figure.Figure at 0x1db68b02748>"
      ]
     },
     "metadata": {},
     "output_type": "display_data"
    }
   ],
   "source": [
    "## Stacked chart for visualization\n",
    "\n",
    "var = df.groupby(['Age','Gender']).Gender.count()\n",
    "var.unstack().plot(kind='bar',stacked=True, grid=False,figsize=(10,5))"
   ]
  },
  {
   "cell_type": "code",
   "execution_count": 61,
   "metadata": {
    "collapsed": false,
    "scrolled": true
   },
   "outputs": [
    {
     "data": {
      "text/html": [
       "<div>\n",
       "<table border=\"1\" class=\"dataframe\">\n",
       "  <thead>\n",
       "    <tr style=\"text-align: right;\">\n",
       "      <th>Age</th>\n",
       "      <th>0-17</th>\n",
       "      <th>18-25</th>\n",
       "      <th>26-35</th>\n",
       "      <th>36-45</th>\n",
       "      <th>46-50</th>\n",
       "      <th>51-55</th>\n",
       "      <th>55+</th>\n",
       "    </tr>\n",
       "    <tr>\n",
       "      <th>Gender</th>\n",
       "      <th></th>\n",
       "      <th></th>\n",
       "      <th></th>\n",
       "      <th></th>\n",
       "      <th></th>\n",
       "      <th></th>\n",
       "      <th></th>\n",
       "    </tr>\n",
       "  </thead>\n",
       "  <tbody>\n",
       "    <tr>\n",
       "      <th>F</th>\n",
       "      <td>5083</td>\n",
       "      <td>24628</td>\n",
       "      <td>50752</td>\n",
       "      <td>27170</td>\n",
       "      <td>13199</td>\n",
       "      <td>9894</td>\n",
       "      <td>5083</td>\n",
       "    </tr>\n",
       "    <tr>\n",
       "      <th>M</th>\n",
       "      <td>10019</td>\n",
       "      <td>75032</td>\n",
       "      <td>168835</td>\n",
       "      <td>82843</td>\n",
       "      <td>32502</td>\n",
       "      <td>28607</td>\n",
       "      <td>16421</td>\n",
       "    </tr>\n",
       "  </tbody>\n",
       "</table>\n",
       "</div>"
      ],
      "text/plain": [
       "Age      0-17  18-25   26-35  36-45  46-50  51-55    55+\n",
       "Gender                                                  \n",
       "F        5083  24628   50752  27170  13199   9894   5083\n",
       "M       10019  75032  168835  82843  32502  28607  16421"
      ]
     },
     "execution_count": 61,
     "metadata": {},
     "output_type": "execute_result"
    }
   ],
   "source": [
    "## Chi-sq test\n",
    "\n",
    "chi_AG = pd.crosstab(df['Gender'],df['Age'])\n",
    "chi_AG"
   ]
  },
  {
   "cell_type": "code",
   "execution_count": 62,
   "metadata": {
    "collapsed": false
   },
   "outputs": [
    {
     "data": {
      "text/plain": [
       "(1412.7156576195039,\n",
       " 4.2750569064909935e-302,\n",
       " 6,\n",
       " array([[   3728.60722311,   24605.54865944,   54214.9168521 ,\n",
       "           27161.65186304,   11283.34516642,    9505.70167507,\n",
       "            5309.22856083],\n",
       "        [  11373.39277689,   75054.45134056,  165372.0831479 ,\n",
       "           82851.34813696,   34417.65483358,   28995.29832493,\n",
       "           16194.77143917]]))"
      ]
     },
     "execution_count": 62,
     "metadata": {},
     "output_type": "execute_result"
    }
   ],
   "source": [
    "stats.chi2_contingency(chi_AG)"
   ]
  },
  {
   "cell_type": "markdown",
   "metadata": {},
   "source": [
    "                                     Gender & Age are dependent on each other"
   ]
  },
  {
   "cell_type": "code",
   "execution_count": 63,
   "metadata": {
    "collapsed": false
   },
   "outputs": [
    {
     "data": {
      "text/plain": [
       "<matplotlib.axes._subplots.AxesSubplot at 0x1db68a17828>"
      ]
     },
     "execution_count": 63,
     "metadata": {},
     "output_type": "execute_result"
    },
    {
     "data": {
      "image/png": "[encoded data removed]",
      "text/plain": [
       "<matplotlib.figure.Figure at 0x1db68a0b400>"
      ]
     },
     "metadata": {},
     "output_type": "display_data"
    }
   ],
   "source": [
    "# stack \n",
    "var1 = df.groupby(['City_Category','Gender']).Gender.count()\n",
    "var1.unstack().plot(kind='bar',stacked=True, grid=False,figsize=(10,5),color=['pink','lightgreen'])"
   ]
  },
  {
   "cell_type": "code",
   "execution_count": 64,
   "metadata": {
    "collapsed": false
   },
   "outputs": [
    {
     "data": {
      "text/html": [
       "<div>\n",
       "<table border=\"1\" class=\"dataframe\">\n",
       "  <thead>\n",
       "    <tr style=\"text-align: right;\">\n",
       "      <th>City_Category</th>\n",
       "      <th>A</th>\n",
       "      <th>B</th>\n",
       "      <th>C</th>\n",
       "    </tr>\n",
       "    <tr>\n",
       "      <th>Gender</th>\n",
       "      <th></th>\n",
       "      <th></th>\n",
       "      <th></th>\n",
       "    </tr>\n",
       "  </thead>\n",
       "  <tbody>\n",
       "    <tr>\n",
       "      <th>F</th>\n",
       "      <td>35704</td>\n",
       "      <td>57796</td>\n",
       "      <td>42309</td>\n",
       "    </tr>\n",
       "    <tr>\n",
       "      <th>M</th>\n",
       "      <td>112016</td>\n",
       "      <td>173377</td>\n",
       "      <td>128866</td>\n",
       "    </tr>\n",
       "  </tbody>\n",
       "</table>\n",
       "</div>"
      ],
      "text/plain": [
       "City_Category       A       B       C\n",
       "Gender                               \n",
       "F               35704   57796   42309\n",
       "M              112016  173377  128866"
      ]
     },
     "execution_count": 64,
     "metadata": {},
     "output_type": "execute_result"
    }
   ],
   "source": [
    "## cross tab\n",
    "\n",
    "chi_GC = pd.crosstab(df['Gender'],df['City_Category'])\n",
    "chi_GC"
   ]
  },
  {
   "cell_type": "code",
   "execution_count": 65,
   "metadata": {
    "collapsed": false
   },
   "outputs": [
    {
     "data": {
      "text/plain": [
       "(33.58382571304351,\n",
       " 5.097590042852447e-08,\n",
       " 2,\n",
       " array([[  36471.3189642,   57075.4415036,   42262.2395322],\n",
       "        [ 111248.6810358,  174097.5584964,  128912.7604678]]))"
      ]
     },
     "execution_count": 65,
     "metadata": {},
     "output_type": "execute_result"
    }
   ],
   "source": [
    "stats.chi2_contingency(chi_GC)"
   ]
  },
  {
   "cell_type": "markdown",
   "metadata": {},
   "source": [
    "                                              Gender & City_Category dependent"
   ]
  },
  {
   "cell_type": "code",
   "execution_count": 66,
   "metadata": {
    "collapsed": false
   },
   "outputs": [
    {
     "data": {
      "text/plain": [
       "<matplotlib.axes._subplots.AxesSubplot at 0x1db689f6f28>"
      ]
     },
     "execution_count": 66,
     "metadata": {},
     "output_type": "execute_result"
    },
    {
     "data": {
      "image/png": "[encoded data removed]",
      "text/plain": [
       "<matplotlib.figure.Figure at 0x1db689ddc50>"
      ]
     },
     "metadata": {},
     "output_type": "display_data"
    }
   ],
   "source": [
    "# stack \n",
    "var2 = df.groupby(['Marital_Status','Gender']).Gender.count()\n",
    "var2.unstack().plot(kind='bar',stacked=True, grid=False,figsize=(10,5),color=['grey','lightblue'])"
   ]
  },
  {
   "cell_type": "code",
   "execution_count": 67,
   "metadata": {
    "collapsed": false
   },
   "outputs": [
    {
     "data": {
      "text/html": [
       "<div>\n",
       "<table border=\"1\" class=\"dataframe\">\n",
       "  <thead>\n",
       "    <tr style=\"text-align: right;\">\n",
       "      <th>Marital_Status</th>\n",
       "      <th>0</th>\n",
       "      <th>1</th>\n",
       "    </tr>\n",
       "    <tr>\n",
       "      <th>Gender</th>\n",
       "      <th></th>\n",
       "      <th></th>\n",
       "    </tr>\n",
       "  </thead>\n",
       "  <tbody>\n",
       "    <tr>\n",
       "      <th>F</th>\n",
       "      <td>78821</td>\n",
       "      <td>56988</td>\n",
       "    </tr>\n",
       "    <tr>\n",
       "      <th>M</th>\n",
       "      <td>245910</td>\n",
       "      <td>168349</td>\n",
       "    </tr>\n",
       "  </tbody>\n",
       "</table>\n",
       "</div>"
      ],
      "text/plain": [
       "Marital_Status       0       1\n",
       "Gender                        \n",
       "F                78821   56988\n",
       "M               245910  168349"
      ]
     },
     "execution_count": 67,
     "metadata": {},
     "output_type": "execute_result"
    }
   ],
   "source": [
    "## cross tab\n",
    "\n",
    "chi_Gm = pd.crosstab(df['Gender'],df['Marital_Status'])\n",
    "chi_Gm"
   ]
  },
  {
   "cell_type": "code",
   "execution_count": 68,
   "metadata": {
    "collapsed": false
   },
   "outputs": [
    {
     "data": {
      "text/plain": [
       "(74.002726975234722,\n",
       " 7.8009189454074494e-18,\n",
       " 1,\n",
       " array([[  80174.43730412,   55634.56269588],\n",
       "        [ 244556.56269588,  169702.43730412]]))"
      ]
     },
     "execution_count": 68,
     "metadata": {},
     "output_type": "execute_result"
    }
   ],
   "source": [
    "stats.chi2_contingency(chi_Gm)"
   ]
  },
  {
   "cell_type": "markdown",
   "metadata": {},
   "source": [
    "<a id='Outlier'></a>\n",
    "## Outlier ##\n",
    "Outlier is a commonly used terminology by analysts and data scientists as it needs close attention else it can result in wildly wrong estimations. Simply speaking, Outlier is an observation that appears far away and diverges from an overall pattern in a sample.\n",
    "\n",
    "**What are the types of Outliers?**\n",
    "\n",
    "Outlier can be of two types: Univariate and Multivariate. Above, we have discussed the example of univariate outlier. These outliers can be found when we look at distribution of a single variable. Multi-variate outliers are outliers in an n-dimensional space. In order to find them, you have to look at distributions in multi-dimensions."
   ]
  },
  {
   "cell_type": "code",
   "execution_count": 69,
   "metadata": {
    "collapsed": false
   },
   "outputs": [
    {
     "data": {
      "text/plain": [
       "<matplotlib.axes._subplots.AxesSubplot at 0x1db688b6898>"
      ]
     },
     "execution_count": 69,
     "metadata": {},
     "output_type": "execute_result"
    },
    {
     "data": {
      "image/png": "[encoded data removed]",
      "text/plain": [
       "<matplotlib.figure.Figure at 0x1db6888e400>"
      ]
     },
     "metadata": {},
     "output_type": "display_data"
    }
   ],
   "source": [
    "plt.figure(figsize=(15, 4))\n",
    "sns.boxplot(df['Purchase'],color='c')"
   ]
  },
  {
   "cell_type": "markdown",
   "metadata": {},
   "source": [
    "## Variable Transformation##\n",
    "What are the common methods of Variable Transformation?\n",
    "\n",
    "There are various methods used to transform variables. As discussed, some of them include square root, cube root, logarithmic, binning, reciprocal and many others. Let’s look at these methods in detail by highlighting the pros and cons of these transformation methods.\n",
    "\n",
    "**Logarithm**: Log of a variable is a common transformation method used to change the shape of distribution of the variable on a distribution plot. It is generally used for reducing right skewness of variables. Though, It can’t be applied to zero or negative values as well.\n",
    "\n",
    "**Square / Cube root**: The square and cube root of a variable has a sound effect on variable distribution. However, it is not as significant as logarithmic transformation. Cube root has its own advantage. It can be applied to negative values including zero. Square root can be applied to positive values including zero.\n",
    "\n",
    "**Binning**: It is used to categorize variables. It is performed on original values, percentile or frequency. Decision of categorization technique is based on business understanding. For example, we can categorize income in three categories, namely: High, Average and Low. We can also perform co-variate binning which depends on the value of more than one variables.\n",
    " "
   ]
  },
  {
   "cell_type": "markdown",
   "metadata": {},
   "source": [
    "# Data Preparation #\n",
    "\n",
    "<a id='Label encoding'></a>\n",
    "### Label Encoding ###\n"
   ]
  },
  {
   "cell_type": "code",
   "execution_count": 70,
   "metadata": {
    "collapsed": false
   },
   "outputs": [],
   "source": [
    "#Label Encoding\n",
    "\n",
    "df = df.ix[:,[0,1,2,3,4,5,6,7,8,9,10,11]] #for subseting by index\n",
    "\n",
    "#Importing LabelEncoder and initializing it\n",
    "from sklearn.preprocessing import LabelEncoder\n",
    "le=LabelEncoder()\n",
    "\n",
    "for col in df.columns.values:\n",
    "    # Encoding only categorical variables\n",
    "    if df[col].dtypes=='object':\n",
    "        # Using whole data to form an exhaustive list of levels\n",
    "        data=df[col]\n",
    "        le.fit(data.values)\n",
    "        df[col]=le.transform(df[col])"
   ]
  },
  {
   "cell_type": "markdown",
   "metadata": {},
   "source": [
    "<a id='Dummy Variables'></a>\n",
    "### Dummy Variables ###"
   ]
  },
  {
   "cell_type": "code",
   "execution_count": 71,
   "metadata": {
    "collapsed": false
   },
   "outputs": [
    {
     "name": "stdout",
     "output_type": "stream",
     "text": [
      "(550068, 24)\n"
     ]
    }
   ],
   "source": [
    "## Create dummy variables \n",
    "\n",
    "df = pd.get_dummies(df, columns=['City_Category','Age','Stay_In_Current_City_Years'])\n",
    "print (df.shape)"
   ]
  },
  {
   "cell_type": "code",
   "execution_count": 72,
   "metadata": {
    "collapsed": true
   },
   "outputs": [],
   "source": [
    "df.to_csv('blackfriday_modified.csv')"
   ]
  },
  {
   "cell_type": "code",
   "execution_count": 73,
   "metadata": {
    "collapsed": false
   },
   "outputs": [
    {
     "data": {
      "text/html": [
       "<div>\n",
       "<table border=\"1\" class=\"dataframe\">\n",
       "  <thead>\n",
       "    <tr style=\"text-align: right;\">\n",
       "      <th></th>\n",
       "      <th>User_ID</th>\n",
       "      <th>Product_ID</th>\n",
       "      <th>Gender</th>\n",
       "      <th>Occupation</th>\n",
       "      <th>Marital_Status</th>\n",
       "      <th>Product_Category_1</th>\n",
       "      <th>Product_Category_2</th>\n",
       "      <th>Product_Category_3</th>\n",
       "      <th>Purchase</th>\n",
       "      <th>City_Category_0</th>\n",
       "      <th>...</th>\n",
       "      <th>Age_2</th>\n",
       "      <th>Age_3</th>\n",
       "      <th>Age_4</th>\n",
       "      <th>Age_5</th>\n",
       "      <th>Age_6</th>\n",
       "      <th>Stay_In_Current_City_Years_0</th>\n",
       "      <th>Stay_In_Current_City_Years_1</th>\n",
       "      <th>Stay_In_Current_City_Years_2</th>\n",
       "      <th>Stay_In_Current_City_Years_3</th>\n",
       "      <th>Stay_In_Current_City_Years_4</th>\n",
       "    </tr>\n",
       "  </thead>\n",
       "  <tbody>\n",
       "    <tr>\n",
       "      <th>0</th>\n",
       "      <td>1000001</td>\n",
       "      <td>672</td>\n",
       "      <td>0</td>\n",
       "      <td>10</td>\n",
       "      <td>0</td>\n",
       "      <td>3</td>\n",
       "      <td>9.0</td>\n",
       "      <td>14.0</td>\n",
       "      <td>8370</td>\n",
       "      <td>1.0</td>\n",
       "      <td>...</td>\n",
       "      <td>0.0</td>\n",
       "      <td>0.0</td>\n",
       "      <td>0.0</td>\n",
       "      <td>0.0</td>\n",
       "      <td>0.0</td>\n",
       "      <td>0.0</td>\n",
       "      <td>0.0</td>\n",
       "      <td>1.0</td>\n",
       "      <td>0.0</td>\n",
       "      <td>0.0</td>\n",
       "    </tr>\n",
       "    <tr>\n",
       "      <th>1</th>\n",
       "      <td>1000001</td>\n",
       "      <td>2376</td>\n",
       "      <td>0</td>\n",
       "      <td>10</td>\n",
       "      <td>0</td>\n",
       "      <td>1</td>\n",
       "      <td>6.0</td>\n",
       "      <td>14.0</td>\n",
       "      <td>15200</td>\n",
       "      <td>1.0</td>\n",
       "      <td>...</td>\n",
       "      <td>0.0</td>\n",
       "      <td>0.0</td>\n",
       "      <td>0.0</td>\n",
       "      <td>0.0</td>\n",
       "      <td>0.0</td>\n",
       "      <td>0.0</td>\n",
       "      <td>0.0</td>\n",
       "      <td>1.0</td>\n",
       "      <td>0.0</td>\n",
       "      <td>0.0</td>\n",
       "    </tr>\n",
       "    <tr>\n",
       "      <th>2</th>\n",
       "      <td>1000001</td>\n",
       "      <td>852</td>\n",
       "      <td>0</td>\n",
       "      <td>10</td>\n",
       "      <td>0</td>\n",
       "      <td>12</td>\n",
       "      <td>9.0</td>\n",
       "      <td>14.0</td>\n",
       "      <td>1422</td>\n",
       "      <td>1.0</td>\n",
       "      <td>...</td>\n",
       "      <td>0.0</td>\n",
       "      <td>0.0</td>\n",
       "      <td>0.0</td>\n",
       "      <td>0.0</td>\n",
       "      <td>0.0</td>\n",
       "      <td>0.0</td>\n",
       "      <td>0.0</td>\n",
       "      <td>1.0</td>\n",
       "      <td>0.0</td>\n",
       "      <td>0.0</td>\n",
       "    </tr>\n",
       "    <tr>\n",
       "      <th>3</th>\n",
       "      <td>1000001</td>\n",
       "      <td>828</td>\n",
       "      <td>0</td>\n",
       "      <td>10</td>\n",
       "      <td>0</td>\n",
       "      <td>12</td>\n",
       "      <td>14.0</td>\n",
       "      <td>14.0</td>\n",
       "      <td>1057</td>\n",
       "      <td>1.0</td>\n",
       "      <td>...</td>\n",
       "      <td>0.0</td>\n",
       "      <td>0.0</td>\n",
       "      <td>0.0</td>\n",
       "      <td>0.0</td>\n",
       "      <td>0.0</td>\n",
       "      <td>0.0</td>\n",
       "      <td>0.0</td>\n",
       "      <td>1.0</td>\n",
       "      <td>0.0</td>\n",
       "      <td>0.0</td>\n",
       "    </tr>\n",
       "    <tr>\n",
       "      <th>4</th>\n",
       "      <td>1000002</td>\n",
       "      <td>2734</td>\n",
       "      <td>1</td>\n",
       "      <td>16</td>\n",
       "      <td>0</td>\n",
       "      <td>8</td>\n",
       "      <td>9.0</td>\n",
       "      <td>14.0</td>\n",
       "      <td>7969</td>\n",
       "      <td>0.0</td>\n",
       "      <td>...</td>\n",
       "      <td>0.0</td>\n",
       "      <td>0.0</td>\n",
       "      <td>0.0</td>\n",
       "      <td>0.0</td>\n",
       "      <td>1.0</td>\n",
       "      <td>0.0</td>\n",
       "      <td>0.0</td>\n",
       "      <td>0.0</td>\n",
       "      <td>0.0</td>\n",
       "      <td>1.0</td>\n",
       "    </tr>\n",
       "  </tbody>\n",
       "</table>\n",
       "<p>5 rows × 24 columns</p>\n",
       "</div>"
      ],
      "text/plain": [
       "   User_ID  Product_ID  Gender  Occupation  Marital_Status  \\\n",
       "0  1000001         672       0          10               0   \n",
       "1  1000001        2376       0          10               0   \n",
       "2  1000001         852       0          10               0   \n",
       "3  1000001         828       0          10               0   \n",
       "4  1000002        2734       1          16               0   \n",
       "\n",
       "   Product_Category_1  Product_Category_2  Product_Category_3  Purchase  \\\n",
       "0                   3                 9.0                14.0      8370   \n",
       "1                   1                 6.0                14.0     15200   \n",
       "2                  12                 9.0                14.0      1422   \n",
       "3                  12                14.0                14.0      1057   \n",
       "4                   8                 9.0                14.0      7969   \n",
       "\n",
       "   City_Category_0              ...               Age_2  Age_3  Age_4  Age_5  \\\n",
       "0              1.0              ...                 0.0    0.0    0.0    0.0   \n",
       "1              1.0              ...                 0.0    0.0    0.0    0.0   \n",
       "2              1.0              ...                 0.0    0.0    0.0    0.0   \n",
       "3              1.0              ...                 0.0    0.0    0.0    0.0   \n",
       "4              0.0              ...                 0.0    0.0    0.0    0.0   \n",
       "\n",
       "   Age_6  Stay_In_Current_City_Years_0  Stay_In_Current_City_Years_1  \\\n",
       "0    0.0                           0.0                           0.0   \n",
       "1    0.0                           0.0                           0.0   \n",
       "2    0.0                           0.0                           0.0   \n",
       "3    0.0                           0.0                           0.0   \n",
       "4    1.0                           0.0                           0.0   \n",
       "\n",
       "   Stay_In_Current_City_Years_2  Stay_In_Current_City_Years_3  \\\n",
       "0                           1.0                           0.0   \n",
       "1                           1.0                           0.0   \n",
       "2                           1.0                           0.0   \n",
       "3                           1.0                           0.0   \n",
       "4                           0.0                           0.0   \n",
       "\n",
       "   Stay_In_Current_City_Years_4  \n",
       "0                           0.0  \n",
       "1                           0.0  \n",
       "2                           0.0  \n",
       "3                           0.0  \n",
       "4                           1.0  \n",
       "\n",
       "[5 rows x 24 columns]"
      ]
     },
     "execution_count": 73,
     "metadata": {},
     "output_type": "execute_result"
    }
   ],
   "source": [
    "df.head()"
   ]
  },
  {
   "cell_type": "markdown",
   "metadata": {},
   "source": [
    "<a id='Data Spliting'></a>\n",
    "## Data Spliting ##"
   ]
  },
  {
   "cell_type": "code",
   "execution_count": 74,
   "metadata": {
    "collapsed": true
   },
   "outputs": [],
   "source": [
    "# Moving the Purchase column to the last\n",
    "Purchase = df[\"Purchase\"]\n",
    "df.drop(labels = ['Purchase'], axis = 1, inplace= True)\n",
    "df.insert(23,\"Purchase\", Purchase)"
   ]
  },
  {
   "cell_type": "code",
   "execution_count": 75,
   "metadata": {
    "collapsed": false
   },
   "outputs": [
    {
     "data": {
      "text/html": [
       "<div>\n",
       "<table border=\"1\" class=\"dataframe\">\n",
       "  <thead>\n",
       "    <tr style=\"text-align: right;\">\n",
       "      <th></th>\n",
       "      <th>User_ID</th>\n",
       "      <th>Product_ID</th>\n",
       "      <th>Gender</th>\n",
       "      <th>Occupation</th>\n",
       "      <th>Marital_Status</th>\n",
       "      <th>Product_Category_1</th>\n",
       "      <th>Product_Category_2</th>\n",
       "      <th>Product_Category_3</th>\n",
       "      <th>City_Category_0</th>\n",
       "      <th>City_Category_1</th>\n",
       "      <th>...</th>\n",
       "      <th>Age_3</th>\n",
       "      <th>Age_4</th>\n",
       "      <th>Age_5</th>\n",
       "      <th>Age_6</th>\n",
       "      <th>Stay_In_Current_City_Years_0</th>\n",
       "      <th>Stay_In_Current_City_Years_1</th>\n",
       "      <th>Stay_In_Current_City_Years_2</th>\n",
       "      <th>Stay_In_Current_City_Years_3</th>\n",
       "      <th>Stay_In_Current_City_Years_4</th>\n",
       "      <th>Purchase</th>\n",
       "    </tr>\n",
       "  </thead>\n",
       "  <tbody>\n",
       "    <tr>\n",
       "      <th>0</th>\n",
       "      <td>1000001</td>\n",
       "      <td>672</td>\n",
       "      <td>0</td>\n",
       "      <td>10</td>\n",
       "      <td>0</td>\n",
       "      <td>3</td>\n",
       "      <td>9.0</td>\n",
       "      <td>14.0</td>\n",
       "      <td>1.0</td>\n",
       "      <td>0.0</td>\n",
       "      <td>...</td>\n",
       "      <td>0.0</td>\n",
       "      <td>0.0</td>\n",
       "      <td>0.0</td>\n",
       "      <td>0.0</td>\n",
       "      <td>0.0</td>\n",
       "      <td>0.0</td>\n",
       "      <td>1.0</td>\n",
       "      <td>0.0</td>\n",
       "      <td>0.0</td>\n",
       "      <td>8370</td>\n",
       "    </tr>\n",
       "    <tr>\n",
       "      <th>1</th>\n",
       "      <td>1000001</td>\n",
       "      <td>2376</td>\n",
       "      <td>0</td>\n",
       "      <td>10</td>\n",
       "      <td>0</td>\n",
       "      <td>1</td>\n",
       "      <td>6.0</td>\n",
       "      <td>14.0</td>\n",
       "      <td>1.0</td>\n",
       "      <td>0.0</td>\n",
       "      <td>...</td>\n",
       "      <td>0.0</td>\n",
       "      <td>0.0</td>\n",
       "      <td>0.0</td>\n",
       "      <td>0.0</td>\n",
       "      <td>0.0</td>\n",
       "      <td>0.0</td>\n",
       "      <td>1.0</td>\n",
       "      <td>0.0</td>\n",
       "      <td>0.0</td>\n",
       "      <td>15200</td>\n",
       "    </tr>\n",
       "    <tr>\n",
       "      <th>2</th>\n",
       "      <td>1000001</td>\n",
       "      <td>852</td>\n",
       "      <td>0</td>\n",
       "      <td>10</td>\n",
       "      <td>0</td>\n",
       "      <td>12</td>\n",
       "      <td>9.0</td>\n",
       "      <td>14.0</td>\n",
       "      <td>1.0</td>\n",
       "      <td>0.0</td>\n",
       "      <td>...</td>\n",
       "      <td>0.0</td>\n",
       "      <td>0.0</td>\n",
       "      <td>0.0</td>\n",
       "      <td>0.0</td>\n",
       "      <td>0.0</td>\n",
       "      <td>0.0</td>\n",
       "      <td>1.0</td>\n",
       "      <td>0.0</td>\n",
       "      <td>0.0</td>\n",
       "      <td>1422</td>\n",
       "    </tr>\n",
       "    <tr>\n",
       "      <th>3</th>\n",
       "      <td>1000001</td>\n",
       "      <td>828</td>\n",
       "      <td>0</td>\n",
       "      <td>10</td>\n",
       "      <td>0</td>\n",
       "      <td>12</td>\n",
       "      <td>14.0</td>\n",
       "      <td>14.0</td>\n",
       "      <td>1.0</td>\n",
       "      <td>0.0</td>\n",
       "      <td>...</td>\n",
       "      <td>0.0</td>\n",
       "      <td>0.0</td>\n",
       "      <td>0.0</td>\n",
       "      <td>0.0</td>\n",
       "      <td>0.0</td>\n",
       "      <td>0.0</td>\n",
       "      <td>1.0</td>\n",
       "      <td>0.0</td>\n",
       "      <td>0.0</td>\n",
       "      <td>1057</td>\n",
       "    </tr>\n",
       "    <tr>\n",
       "      <th>4</th>\n",
       "      <td>1000002</td>\n",
       "      <td>2734</td>\n",
       "      <td>1</td>\n",
       "      <td>16</td>\n",
       "      <td>0</td>\n",
       "      <td>8</td>\n",
       "      <td>9.0</td>\n",
       "      <td>14.0</td>\n",
       "      <td>0.0</td>\n",
       "      <td>0.0</td>\n",
       "      <td>...</td>\n",
       "      <td>0.0</td>\n",
       "      <td>0.0</td>\n",
       "      <td>0.0</td>\n",
       "      <td>1.0</td>\n",
       "      <td>0.0</td>\n",
       "      <td>0.0</td>\n",
       "      <td>0.0</td>\n",
       "      <td>0.0</td>\n",
       "      <td>1.0</td>\n",
       "      <td>7969</td>\n",
       "    </tr>\n",
       "  </tbody>\n",
       "</table>\n",
       "<p>5 rows × 24 columns</p>\n",
       "</div>"
      ],
      "text/plain": [
       "   User_ID  Product_ID  Gender  Occupation  Marital_Status  \\\n",
       "0  1000001         672       0          10               0   \n",
       "1  1000001        2376       0          10               0   \n",
       "2  1000001         852       0          10               0   \n",
       "3  1000001         828       0          10               0   \n",
       "4  1000002        2734       1          16               0   \n",
       "\n",
       "   Product_Category_1  Product_Category_2  Product_Category_3  \\\n",
       "0                   3                 9.0                14.0   \n",
       "1                   1                 6.0                14.0   \n",
       "2                  12                 9.0                14.0   \n",
       "3                  12                14.0                14.0   \n",
       "4                   8                 9.0                14.0   \n",
       "\n",
       "   City_Category_0  City_Category_1    ...     Age_3  Age_4  Age_5  Age_6  \\\n",
       "0              1.0              0.0    ...       0.0    0.0    0.0    0.0   \n",
       "1              1.0              0.0    ...       0.0    0.0    0.0    0.0   \n",
       "2              1.0              0.0    ...       0.0    0.0    0.0    0.0   \n",
       "3              1.0              0.0    ...       0.0    0.0    0.0    0.0   \n",
       "4              0.0              0.0    ...       0.0    0.0    0.0    1.0   \n",
       "\n",
       "   Stay_In_Current_City_Years_0  Stay_In_Current_City_Years_1  \\\n",
       "0                           0.0                           0.0   \n",
       "1                           0.0                           0.0   \n",
       "2                           0.0                           0.0   \n",
       "3                           0.0                           0.0   \n",
       "4                           0.0                           0.0   \n",
       "\n",
       "   Stay_In_Current_City_Years_2  Stay_In_Current_City_Years_3  \\\n",
       "0                           1.0                           0.0   \n",
       "1                           1.0                           0.0   \n",
       "2                           1.0                           0.0   \n",
       "3                           1.0                           0.0   \n",
       "4                           0.0                           0.0   \n",
       "\n",
       "   Stay_In_Current_City_Years_4  Purchase  \n",
       "0                           0.0      8370  \n",
       "1                           0.0     15200  \n",
       "2                           0.0      1422  \n",
       "3                           0.0      1057  \n",
       "4                           1.0      7969  \n",
       "\n",
       "[5 rows x 24 columns]"
      ]
     },
     "execution_count": 75,
     "metadata": {},
     "output_type": "execute_result"
    }
   ],
   "source": [
    "df.head()"
   ]
  },
  {
   "cell_type": "code",
   "execution_count": 76,
   "metadata": {
    "collapsed": true
   },
   "outputs": [],
   "source": [
    "### Convert User ID & Product_ID in \n",
    "df['User_ID'] = df['User_ID'].astype('category')\n",
    "df['Product_ID'] = df['Product_ID'].astype('category')"
   ]
  },
  {
   "cell_type": "code",
   "execution_count": 91,
   "metadata": {
    "collapsed": false
   },
   "outputs": [],
   "source": [
    "import numpy as np\n",
    "array = df.values\n",
    "X = np.array(array[:,0:23])\n",
    "y = np.array(array[:,23])\n",
    "# '''X = df[:,0:23]\n",
    "#y = df[:,23]\n",
    "#X  = np.array[:,0:23]\n",
    "#y = np.array[:,23]'''"
   ]
  },
  {
   "cell_type": "code",
   "execution_count": 92,
   "metadata": {
    "collapsed": false
   },
   "outputs": [],
   "source": [
    "from sklearn.cross_validation import train_test_split\n",
    "X_train, X_test, y_train, y_test = train_test_split(\n",
    "    X, y, test_size=0.3, random_state=0)"
   ]
  },
  {
   "cell_type": "code",
   "execution_count": 93,
   "metadata": {
    "collapsed": false
   },
   "outputs": [
    {
     "name": "stdout",
     "output_type": "stream",
     "text": [
      "(385047, 23)\n",
      "(165021, 23)\n"
     ]
    }
   ],
   "source": [
    "print (X_train.shape)\n",
    "print (X_test.shape)"
   ]
  },
  {
   "cell_type": "code",
   "execution_count": 94,
   "metadata": {
    "collapsed": false
   },
   "outputs": [
    {
     "name": "stdout",
     "output_type": "stream",
     "text": [
      "(385047,)\n",
      "(165021,)\n"
     ]
    }
   ],
   "source": [
    "print(y_train.shape)\n",
    "print(y_test.shape)"
   ]
  },
  {
   "cell_type": "markdown",
   "metadata": {},
   "source": [
    "# Model Building\n"
   ]
  },
  {
   "cell_type": "markdown",
   "metadata": {},
   "source": [
    "# Linear Regressor"
   ]
  },
  {
   "cell_type": "code",
   "execution_count": 103,
   "metadata": {
    "collapsed": false
   },
   "outputs": [
    {
     "data": {
      "text/plain": [
       "LinearRegression(copy_X=True, fit_intercept=True, n_jobs=1, normalize=False)"
      ]
     },
     "execution_count": 103,
     "metadata": {},
     "output_type": "execute_result"
    }
   ],
   "source": [
    "from sklearn.linear_model import LinearRegression\n",
    "lm = LinearRegression()\n",
    "lm.fit(X_train, y_train)"
   ]
  },
  {
   "cell_type": "code",
   "execution_count": 104,
   "metadata": {
    "collapsed": false
   },
   "outputs": [
    {
     "name": "stdout",
     "output_type": "stream",
     "text": [
      "4679.21647107334\n"
     ]
    }
   ],
   "source": [
    "# Predict on test\n",
    "from sklearn.metrics import mean_squared_error\n",
    "from math import sqrt\n",
    "\n",
    "predictions_1 = lm.predict(X_test)\n",
    "lm_rmse = sqrt(mean_squared_error(y_test, predictions_1))\n",
    "print(lm_rmse)"
   ]
  },
  {
   "cell_type": "markdown",
   "metadata": {},
   "source": [
    "# Decision Tree Regressor"
   ]
  },
  {
   "cell_type": "code",
   "execution_count": 107,
   "metadata": {
    "collapsed": true
   },
   "outputs": [],
   "source": [
    "from sklearn import tree\n",
    "\n",
    "## Model fitting\n",
    "dt = tree.DecisionTreeRegressor(max_depth = 7)\n",
    "dt.fit(X_train,y_train)\n",
    "\n",
    "## Predict\n",
    "predictions_2 = dt.predict(X_test)\n",
    "\n",
    "dt_rmse = sqrt(mean_squared_error(y_test, predictions_3))"
   ]
  },
  {
   "cell_type": "code",
   "execution_count": 108,
   "metadata": {
    "collapsed": false
   },
   "outputs": [
    {
     "name": "stdout",
     "output_type": "stream",
     "text": [
      "2907.400606142018\n"
     ]
    }
   ],
   "source": [
    "print(dt_rmse)"
   ]
  },
  {
   "cell_type": "markdown",
   "metadata": {},
   "source": [
    "# Random Forest Regressor"
   ]
  },
  {
   "cell_type": "code",
   "execution_count": 96,
   "metadata": {
    "collapsed": false
   },
   "outputs": [
    {
     "name": "stderr",
     "output_type": "stream",
     "text": [
      "[Parallel(n_jobs=1)]: Done 100 out of 100 | elapsed:  3.7min finished\n",
      "[Parallel(n_jobs=1)]: Done 100 out of 100 | elapsed:    2.0s finished\n"
     ]
    }
   ],
   "source": [
    "from sklearn.ensemble import RandomForestRegressor\n",
    "rf = RandomForestRegressor(max_depth=7,n_estimators=100,verbose = 1)\n",
    "\n",
    "rf.fit(X_train,y_train)\n",
    "predictions_2  = rf.predict(X_test)"
   ]
  },
  {
   "cell_type": "code",
   "execution_count": 97,
   "metadata": {
    "collapsed": true
   },
   "outputs": [],
   "source": [
    "from sklearn.metrics import mean_squared_error\n",
    "from math import sqrt\n",
    "\n",
    "rf_rmse = sqrt(mean_squared_error(y_test, predictions_2))"
   ]
  },
  {
   "cell_type": "code",
   "execution_count": 98,
   "metadata": {
    "collapsed": false
   },
   "outputs": [
    {
     "name": "stdout",
     "output_type": "stream",
     "text": [
      "2895.846963109062\n"
     ]
    }
   ],
   "source": [
    "print(rf_rmse)"
   ]
  }
 ],
 "metadata": {
  "anaconda-cloud": {},
  "kernelspec": {
   "display_name": "Python [conda root]",
   "language": "python",
   "name": "conda-root-py"
  },
  "language_info": {
   "codemirror_mode": {
    "name": "ipython",
    "version": 3
   },
   "file_extension": ".py",
   "mimetype": "text/x-python",
   "name": "python",
   "nbconvert_exporter": "python",
   "pygments_lexer": "ipython3",
   "version": "3.5.2"
  }
 },
 "nbformat": 4,
 "nbformat_minor": 2
}
